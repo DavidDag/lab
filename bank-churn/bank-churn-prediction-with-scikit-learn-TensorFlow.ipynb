{
 "cells": [
  {
   "cell_type": "markdown",
   "metadata": {},
   "source": [
    "# Bank Churn Prediction with scikit-learn and TensorFlow\n"
   ]
  },
  {
   "cell_type": "markdown",
   "metadata": {},
   "source": [
    "Did you know that it costs five times as much to attract a new customer, than to keep an existing one? \n",
    "\n",
    "Customer retention is one of the key corporate strategies to maintain a continuous revenue for any organization, especially those facing fierce competition in a free market. \n",
    "\n",
    "Customer churn prediction helps to identify potential lost customers on time to allow a company take actions to avoid loosing customers. \n",
    "\n",
    "The prediction process is heavily data-driven and often utilizes advanced machine learning techniques.\n",
    "\n",
    "In this demo, we'll explore what types of customer data are typically used, perform data analysis, and train churn prediction models using scikit-learn and deep learning technology."
   ]
  },
  {
   "cell_type": "markdown",
   "metadata": {},
   "source": [
    "\n",
    "1. Data acquisition\n",
    "2. Data exploration & visualization\n",
    "3. Data preparation\n",
    "4. Model training\n",
    "5. Model evaulation\n",
    "6. Model application\n"
   ]
  },
  {
   "cell_type": "markdown",
   "metadata": {},
   "source": [
    "## Setup imports and variables"
   ]
  },
  {
   "cell_type": "code",
   "execution_count": 1,
   "metadata": {},
   "outputs": [
    {
     "name": "stdout",
     "output_type": "stream",
     "text": [
      "Requirement already up-to-date: scikit-learn in /gpfs/global_fs01/sym_shared/YPProdSpark/user/s830-828db847f6ddfb-9f2ef3fdc1ce/.local/lib/python2.7/site-packages\n",
      "Requirement already satisfied: wget in /gpfs/global_fs01/sym_shared/YPProdSpark/user/s830-828db847f6ddfb-9f2ef3fdc1ce/.local/lib/python2.7/site-packages\n"
     ]
    }
   ],
   "source": [
    "#Run once to install the required packages\n",
    "!pip install -U scikit-learn\n",
    "!pip install wget"
   ]
  },
  {
   "cell_type": "code",
   "execution_count": 2,
   "metadata": {},
   "outputs": [],
   "source": [
    "# import required pachages\n",
    "import pandas as pd\n",
    "import pylab as plt\n",
    "import numpy as np\n",
    "import tensorflow as tf\n",
    "\n",
    "# show matplotlib figures in the notebook\n",
    "%matplotlib inline\n",
    "\n",
    "# Set the global default size of matplotlib figures\n",
    "plt.rc('figure', figsize=(10, 5))\n"
   ]
  },
  {
   "cell_type": "markdown",
   "metadata": {},
   "source": [
    "## 1. Data acquisition\n",
    "\n",
    "\n",
    "### Load data from a CSV file"
   ]
  },
  {
   "cell_type": "markdown",
   "metadata": {},
   "source": [
    "For this tutorial, we download the data from a CSV file on Github and then ue pandas.read_csv() to read the data into a Pandas DataFrame. In IBM Data Science Experience on IBM Cloud, you also can simply drag and drop the CSV file to add it as a dataset, and then select “Insert Code” to automatically generate the code to read the CSV file from cloud object storage. For larger datasets, you may prefer to use a SparkSession DataFrame instead, but in that case, using a Pandas DataFrame is suffice."
   ]
  },
  {
   "cell_type": "code",
   "execution_count": 3,
   "metadata": {},
   "outputs": [
    {
     "data": {
      "text/html": [
       "<div>\n",
       "<table border=\"1\" class=\"dataframe\">\n",
       "  <thead>\n",
       "    <tr style=\"text-align: right;\">\n",
       "      <th></th>\n",
       "      <th>CUST_ID</th>\n",
       "      <th>SEX</th>\n",
       "      <th>AGE</th>\n",
       "      <th>EDUCATION</th>\n",
       "      <th>INVESTMENT</th>\n",
       "      <th>INCOME</th>\n",
       "      <th>ACTIVITY</th>\n",
       "      <th>CHURN</th>\n",
       "      <th>YRLY_AMT</th>\n",
       "      <th>AVG_DAILY_TX</th>\n",
       "      <th>YRLY_TX</th>\n",
       "      <th>AVG_TX_AMT</th>\n",
       "      <th>NEGTWEETS</th>\n",
       "      <th>STATE</th>\n",
       "      <th>EDUCATION_GROUP</th>\n",
       "      <th>TwitterID</th>\n",
       "      <th>CHURN_LABEL</th>\n",
       "    </tr>\n",
       "  </thead>\n",
       "  <tbody>\n",
       "    <tr>\n",
       "      <th>0</th>\n",
       "      <td>1009530860</td>\n",
       "      <td>F</td>\n",
       "      <td>84</td>\n",
       "      <td>2</td>\n",
       "      <td>114368</td>\n",
       "      <td>3852862</td>\n",
       "      <td>5</td>\n",
       "      <td>0</td>\n",
       "      <td>700259</td>\n",
       "      <td>0.917808</td>\n",
       "      <td>335</td>\n",
       "      <td>2090.3200</td>\n",
       "      <td>3</td>\n",
       "      <td>TX</td>\n",
       "      <td>Bachelors degree</td>\n",
       "      <td>0</td>\n",
       "      <td>False</td>\n",
       "    </tr>\n",
       "    <tr>\n",
       "      <th>1</th>\n",
       "      <td>1009544000</td>\n",
       "      <td>F</td>\n",
       "      <td>44</td>\n",
       "      <td>2</td>\n",
       "      <td>90298</td>\n",
       "      <td>3849843</td>\n",
       "      <td>1</td>\n",
       "      <td>0</td>\n",
       "      <td>726977</td>\n",
       "      <td>0.950685</td>\n",
       "      <td>347</td>\n",
       "      <td>2095.0400</td>\n",
       "      <td>2</td>\n",
       "      <td>CA</td>\n",
       "      <td>Bachelors degree</td>\n",
       "      <td>0</td>\n",
       "      <td>False</td>\n",
       "    </tr>\n",
       "    <tr>\n",
       "      <th>2</th>\n",
       "      <td>1009534260</td>\n",
       "      <td>F</td>\n",
       "      <td>23</td>\n",
       "      <td>2</td>\n",
       "      <td>94881</td>\n",
       "      <td>3217364</td>\n",
       "      <td>1</td>\n",
       "      <td>1</td>\n",
       "      <td>579084</td>\n",
       "      <td>0.920548</td>\n",
       "      <td>336</td>\n",
       "      <td>1723.4600</td>\n",
       "      <td>5</td>\n",
       "      <td>CA</td>\n",
       "      <td>Bachelors degree</td>\n",
       "      <td>0</td>\n",
       "      <td>True</td>\n",
       "    </tr>\n",
       "    <tr>\n",
       "      <th>3</th>\n",
       "      <td>1009574010</td>\n",
       "      <td>F</td>\n",
       "      <td>24</td>\n",
       "      <td>2</td>\n",
       "      <td>112099</td>\n",
       "      <td>2438218</td>\n",
       "      <td>4</td>\n",
       "      <td>1</td>\n",
       "      <td>470964</td>\n",
       "      <td>0.994521</td>\n",
       "      <td>363</td>\n",
       "      <td>1297.4199</td>\n",
       "      <td>2</td>\n",
       "      <td>WA</td>\n",
       "      <td>Bachelors degree</td>\n",
       "      <td>0</td>\n",
       "      <td>True</td>\n",
       "    </tr>\n",
       "    <tr>\n",
       "      <th>4</th>\n",
       "      <td>1009578620</td>\n",
       "      <td>F</td>\n",
       "      <td>67</td>\n",
       "      <td>5</td>\n",
       "      <td>84638</td>\n",
       "      <td>2428245</td>\n",
       "      <td>3</td>\n",
       "      <td>0</td>\n",
       "      <td>446615</td>\n",
       "      <td>0.917808</td>\n",
       "      <td>335</td>\n",
       "      <td>1333.1799</td>\n",
       "      <td>3</td>\n",
       "      <td>CT</td>\n",
       "      <td>Doctorate</td>\n",
       "      <td>0</td>\n",
       "      <td>False</td>\n",
       "    </tr>\n",
       "  </tbody>\n",
       "</table>\n",
       "</div>"
      ],
      "text/plain": [
       "      CUST_ID SEX  AGE  EDUCATION  INVESTMENT   INCOME  ACTIVITY  CHURN  \\\n",
       "0  1009530860   F   84          2      114368  3852862         5      0   \n",
       "1  1009544000   F   44          2       90298  3849843         1      0   \n",
       "2  1009534260   F   23          2       94881  3217364         1      1   \n",
       "3  1009574010   F   24          2      112099  2438218         4      1   \n",
       "4  1009578620   F   67          5       84638  2428245         3      0   \n",
       "\n",
       "   YRLY_AMT  AVG_DAILY_TX  YRLY_TX  AVG_TX_AMT  NEGTWEETS STATE  \\\n",
       "0    700259      0.917808      335   2090.3200          3    TX   \n",
       "1    726977      0.950685      347   2095.0400          2    CA   \n",
       "2    579084      0.920548      336   1723.4600          5    CA   \n",
       "3    470964      0.994521      363   1297.4199          2    WA   \n",
       "4    446615      0.917808      335   1333.1799          3    CT   \n",
       "\n",
       "    EDUCATION_GROUP  TwitterID CHURN_LABEL  \n",
       "0  Bachelors degree          0       False  \n",
       "1  Bachelors degree          0       False  \n",
       "2  Bachelors degree          0        True  \n",
       "3  Bachelors degree          0        True  \n",
       "4         Doctorate          0       False  "
      ]
     },
     "execution_count": 3,
     "metadata": {},
     "output_type": "execute_result"
    }
   ],
   "source": [
    "import wget\n",
    "data_url ='https://github.com/mlhubca/lab/raw/master/bank-churn/bank-churn.csv'\n",
    "\n",
    "#remove existing files before downloading\n",
    "!rm -f bank-churn.csv\n",
    "\n",
    "data_file = wget.download(data_url)\n",
    "\n",
    "df_data_1 = pd.read_csv(data_file)\n",
    "df_data_1.head()"
   ]
  },
  {
   "cell_type": "markdown",
   "metadata": {},
   "source": [
    "## 2. Data exploration & visualization"
   ]
  },
  {
   "cell_type": "markdown",
   "metadata": {},
   "source": [
    "Let's check the basic summary of the DataFrame:"
   ]
  },
  {
   "cell_type": "code",
   "execution_count": 4,
   "metadata": {},
   "outputs": [
    {
     "name": "stdout",
     "output_type": "stream",
     "text": [
      "<class 'pandas.core.frame.DataFrame'>\n",
      "Int64Index: 6001 entries, 0 to 6000\n",
      "Data columns (total 17 columns):\n",
      "CUST_ID            6001 non-null int64\n",
      "SEX                6001 non-null object\n",
      "AGE                6001 non-null int64\n",
      "EDUCATION          6001 non-null int64\n",
      "INVESTMENT         6001 non-null int64\n",
      "INCOME             6001 non-null int64\n",
      "ACTIVITY           6001 non-null int64\n",
      "CHURN              6001 non-null int64\n",
      "YRLY_AMT           6001 non-null float64\n",
      "AVG_DAILY_TX       6001 non-null float64\n",
      "YRLY_TX            6001 non-null int64\n",
      "AVG_TX_AMT         6001 non-null float64\n",
      "NEGTWEETS          6001 non-null int64\n",
      "STATE              6001 non-null object\n",
      "EDUCATION_GROUP    6001 non-null object\n",
      "TwitterID          6001 non-null float64\n",
      "CHURN_LABEL        6001 non-null bool\n",
      "dtypes: bool(1), float64(4), int64(9), object(3)\n",
      "memory usage: 802.9+ KB\n"
     ]
    }
   ],
   "source": [
    "df_data_1.info()"
   ]
  },
  {
   "cell_type": "markdown",
   "metadata": {},
   "source": [
    "Type 'object' is a string for pandas, which poses problems with machine learning algorithms. If we want to use these as features, we'll need to convert these to number representations."
   ]
  },
  {
   "cell_type": "markdown",
   "metadata": {},
   "source": [
    "Then we check the descriptive statistics of the DataFrame.\n",
    "\n",
    "Spark and Pandas DataFrames include some built-in functions for statistical processing. The _describe()_ function performs summary statistics calculations on all numeric columns, and returns them as a DataFrame. "
   ]
  },
  {
   "cell_type": "code",
   "execution_count": 5,
   "metadata": {},
   "outputs": [
    {
     "data": {
      "text/html": [
       "<div>\n",
       "<table border=\"1\" class=\"dataframe\">\n",
       "  <thead>\n",
       "    <tr style=\"text-align: right;\">\n",
       "      <th></th>\n",
       "      <th>CUST_ID</th>\n",
       "      <th>AGE</th>\n",
       "      <th>EDUCATION</th>\n",
       "      <th>INVESTMENT</th>\n",
       "      <th>INCOME</th>\n",
       "      <th>ACTIVITY</th>\n",
       "      <th>CHURN</th>\n",
       "      <th>YRLY_AMT</th>\n",
       "      <th>AVG_DAILY_TX</th>\n",
       "      <th>YRLY_TX</th>\n",
       "      <th>AVG_TX_AMT</th>\n",
       "      <th>NEGTWEETS</th>\n",
       "      <th>TwitterID</th>\n",
       "      <th>CHURN_LABEL</th>\n",
       "    </tr>\n",
       "  </thead>\n",
       "  <tbody>\n",
       "    <tr>\n",
       "      <th>count</th>\n",
       "      <td>6.001000e+03</td>\n",
       "      <td>6001.000000</td>\n",
       "      <td>6001.000000</td>\n",
       "      <td>6001.000000</td>\n",
       "      <td>6001.000000</td>\n",
       "      <td>6001.000000</td>\n",
       "      <td>6001.000000</td>\n",
       "      <td>6001.000000</td>\n",
       "      <td>6001.000000</td>\n",
       "      <td>6001.000000</td>\n",
       "      <td>6001.000000</td>\n",
       "      <td>6001.000000</td>\n",
       "      <td>6.001000e+03</td>\n",
       "      <td>6001</td>\n",
       "    </tr>\n",
       "    <tr>\n",
       "      <th>mean</th>\n",
       "      <td>1.009550e+09</td>\n",
       "      <td>48.504083</td>\n",
       "      <td>2.100650</td>\n",
       "      <td>8788.980503</td>\n",
       "      <td>36891.688219</td>\n",
       "      <td>2.199133</td>\n",
       "      <td>0.254791</td>\n",
       "      <td>12527.073380</td>\n",
       "      <td>0.683584</td>\n",
       "      <td>249.508249</td>\n",
       "      <td>48.280455</td>\n",
       "      <td>4.805699</td>\n",
       "      <td>2.749703e+14</td>\n",
       "      <td>0.254791</td>\n",
       "    </tr>\n",
       "    <tr>\n",
       "      <th>std</th>\n",
       "      <td>1.732484e+04</td>\n",
       "      <td>16.062950</td>\n",
       "      <td>1.367431</td>\n",
       "      <td>25914.903560</td>\n",
       "      <td>118414.253981</td>\n",
       "      <td>1.415217</td>\n",
       "      <td>0.435780</td>\n",
       "      <td>21869.459623</td>\n",
       "      <td>0.039624</td>\n",
       "      <td>14.462767</td>\n",
       "      <td>64.069223</td>\n",
       "      <td>3.534436</td>\n",
       "      <td>1.506081e+16</td>\n",
       "      <td>0.43578</td>\n",
       "    </tr>\n",
       "    <tr>\n",
       "      <th>min</th>\n",
       "      <td>1.009520e+09</td>\n",
       "      <td>20.000000</td>\n",
       "      <td>1.000000</td>\n",
       "      <td>0.000000</td>\n",
       "      <td>13003.000000</td>\n",
       "      <td>0.000000</td>\n",
       "      <td>0.000000</td>\n",
       "      <td>6094.640600</td>\n",
       "      <td>0.649315</td>\n",
       "      <td>237.000000</td>\n",
       "      <td>25.394302</td>\n",
       "      <td>0.000000</td>\n",
       "      <td>0.000000e+00</td>\n",
       "      <td>False</td>\n",
       "    </tr>\n",
       "    <tr>\n",
       "      <th>25%</th>\n",
       "      <td>1.009535e+09</td>\n",
       "      <td>36.000000</td>\n",
       "      <td>1.000000</td>\n",
       "      <td>0.000000</td>\n",
       "      <td>16873.000000</td>\n",
       "      <td>1.000000</td>\n",
       "      <td>0.000000</td>\n",
       "      <td>8053.390600</td>\n",
       "      <td>0.660274</td>\n",
       "      <td>241.000000</td>\n",
       "      <td>32.864304</td>\n",
       "      <td>3.000000</td>\n",
       "      <td>0.000000e+00</td>\n",
       "      <td>0</td>\n",
       "    </tr>\n",
       "    <tr>\n",
       "      <th>50%</th>\n",
       "      <td>1.009550e+09</td>\n",
       "      <td>47.000000</td>\n",
       "      <td>1.000000</td>\n",
       "      <td>0.000000</td>\n",
       "      <td>20524.000000</td>\n",
       "      <td>2.000000</td>\n",
       "      <td>0.000000</td>\n",
       "      <td>9243.262000</td>\n",
       "      <td>0.665753</td>\n",
       "      <td>243.000000</td>\n",
       "      <td>37.658005</td>\n",
       "      <td>3.000000</td>\n",
       "      <td>0.000000e+00</td>\n",
       "      <td>0</td>\n",
       "    </tr>\n",
       "    <tr>\n",
       "      <th>75%</th>\n",
       "      <td>1.009565e+09</td>\n",
       "      <td>60.000000</td>\n",
       "      <td>4.000000</td>\n",
       "      <td>0.000000</td>\n",
       "      <td>29575.000000</td>\n",
       "      <td>3.000000</td>\n",
       "      <td>1.000000</td>\n",
       "      <td>12161.602000</td>\n",
       "      <td>0.698630</td>\n",
       "      <td>255.000000</td>\n",
       "      <td>49.571396</td>\n",
       "      <td>5.000000</td>\n",
       "      <td>0.000000e+00</td>\n",
       "      <td>1</td>\n",
       "    </tr>\n",
       "    <tr>\n",
       "      <th>max</th>\n",
       "      <td>1.009580e+09</td>\n",
       "      <td>90.000000</td>\n",
       "      <td>5.000000</td>\n",
       "      <td>119927.000000</td>\n",
       "      <td>3852862.000000</td>\n",
       "      <td>5.000000</td>\n",
       "      <td>1.000000</td>\n",
       "      <td>726977.000000</td>\n",
       "      <td>0.994521</td>\n",
       "      <td>363.000000</td>\n",
       "      <td>2095.040000</td>\n",
       "      <td>19.000000</td>\n",
       "      <td>8.275480e+17</td>\n",
       "      <td>True</td>\n",
       "    </tr>\n",
       "  </tbody>\n",
       "</table>\n",
       "</div>"
      ],
      "text/plain": [
       "            CUST_ID          AGE    EDUCATION     INVESTMENT          INCOME  \\\n",
       "count  6.001000e+03  6001.000000  6001.000000    6001.000000     6001.000000   \n",
       "mean   1.009550e+09    48.504083     2.100650    8788.980503    36891.688219   \n",
       "std    1.732484e+04    16.062950     1.367431   25914.903560   118414.253981   \n",
       "min    1.009520e+09    20.000000     1.000000       0.000000    13003.000000   \n",
       "25%    1.009535e+09    36.000000     1.000000       0.000000    16873.000000   \n",
       "50%    1.009550e+09    47.000000     1.000000       0.000000    20524.000000   \n",
       "75%    1.009565e+09    60.000000     4.000000       0.000000    29575.000000   \n",
       "max    1.009580e+09    90.000000     5.000000  119927.000000  3852862.000000   \n",
       "\n",
       "          ACTIVITY        CHURN       YRLY_AMT  AVG_DAILY_TX      YRLY_TX  \\\n",
       "count  6001.000000  6001.000000    6001.000000   6001.000000  6001.000000   \n",
       "mean      2.199133     0.254791   12527.073380      0.683584   249.508249   \n",
       "std       1.415217     0.435780   21869.459623      0.039624    14.462767   \n",
       "min       0.000000     0.000000    6094.640600      0.649315   237.000000   \n",
       "25%       1.000000     0.000000    8053.390600      0.660274   241.000000   \n",
       "50%       2.000000     0.000000    9243.262000      0.665753   243.000000   \n",
       "75%       3.000000     1.000000   12161.602000      0.698630   255.000000   \n",
       "max       5.000000     1.000000  726977.000000      0.994521   363.000000   \n",
       "\n",
       "        AVG_TX_AMT    NEGTWEETS     TwitterID CHURN_LABEL  \n",
       "count  6001.000000  6001.000000  6.001000e+03        6001  \n",
       "mean     48.280455     4.805699  2.749703e+14    0.254791  \n",
       "std      64.069223     3.534436  1.506081e+16     0.43578  \n",
       "min      25.394302     0.000000  0.000000e+00       False  \n",
       "25%      32.864304     3.000000  0.000000e+00           0  \n",
       "50%      37.658005     3.000000  0.000000e+00           0  \n",
       "75%      49.571396     5.000000  0.000000e+00           1  \n",
       "max    2095.040000    19.000000  8.275480e+17        True  "
      ]
     },
     "execution_count": 5,
     "metadata": {},
     "output_type": "execute_result"
    }
   ],
   "source": [
    "df_data_1.describe()"
   ]
  },
  {
   "cell_type": "markdown",
   "metadata": {},
   "source": [
    "Check if there are any missing values:"
   ]
  },
  {
   "cell_type": "code",
   "execution_count": 6,
   "metadata": {},
   "outputs": [
    {
     "data": {
      "text/plain": [
       "False"
      ]
     },
     "execution_count": 6,
     "metadata": {},
     "output_type": "execute_result"
    }
   ],
   "source": [
    "df_data_1.isnull().values.any()"
   ]
  },
  {
   "cell_type": "markdown",
   "metadata": {},
   "source": [
    "Let's check the ratio of Churn."
   ]
  },
  {
   "cell_type": "code",
   "execution_count": 7,
   "metadata": {},
   "outputs": [
    {
     "data": {
      "text/plain": [
       "0    4472\n",
       "1    1529\n",
       "Name: CHURN, dtype: int64"
      ]
     },
     "execution_count": 7,
     "metadata": {},
     "output_type": "execute_result"
    }
   ],
   "source": [
    "df_data_1['CHURN'].value_counts()"
   ]
  },
  {
   "cell_type": "markdown",
   "metadata": {},
   "source": [
    "Grouping the data by the Churn field and counting the number of instances in each group shows that there are roughly 3 times as many false churn samples as true churn samples.\n",
    "\n",
    "\n",
    "Visualize th ratio of churn:"
   ]
  },
  {
   "cell_type": "code",
   "execution_count": 8,
   "metadata": {},
   "outputs": [
    {
     "data": {
      "text/plain": [
       "<matplotlib.axes._subplots.AxesSubplot at 0x7f98da7df4d0>"
      ]
     },
     "execution_count": 8,
     "metadata": {},
     "output_type": "execute_result"
    },
    {
     "data": {
      "image/png": "[encoded data removed]",
      "text/plain": [
       "<matplotlib.figure.Figure at 0x7f98e6643c90>"
      ]
     },
     "metadata": {},
     "output_type": "display_data"
    }
   ],
   "source": [
    "df_data_1['CHURN'].value_counts().plot(kind='pie', figsize=(6,6), colormap='Set3', autopct='%.2f%%', title='Ratio of Churn')"
   ]
  },
  {
   "cell_type": "markdown",
   "metadata": {},
   "source": [
    "Now that we have a general idea of the data set contents, we can dive deeper into each column. We'll be doing exploratory data analysis and cleaning data to setup 'features' we'll be using in our machine learning algorithms."
   ]
  },
  {
   "cell_type": "markdown",
   "metadata": {},
   "source": [
    "### Correlations and data preparation\n",
    "\n",
    "We use the Pandas library to examine correlations between the numeric columns by generating scatter plots of them.\n",
    "\n",
    "For the Pandas workload, we don't want to pull the entire data set into the Spark driver, as that might exhaust the available RAM and throw an out-of-memory exception. Instead, we'll randomly sample a portion of the data (say 10%) to get a rough idea of how it looks. "
   ]
  },
  {
   "cell_type": "code",
   "execution_count": 9,
   "metadata": {},
   "outputs": [
    {
     "name": "stderr",
     "output_type": "stream",
     "text": [
      "/usr/local/src/bluemix_jupyter_bundle.v74/notebook/lib/python2.7/site-packages/matplotlib/axes/_base.py:2767: UserWarning: Attempting to set identical left==right results\n",
      "in singular transformations; automatically expanding.\n",
      "left=0.0, right=0.0\n",
      "  'left=%s, right=%s') % (left, right))\n",
      "/usr/local/src/bluemix_jupyter_bundle.v74/notebook/lib/python2.7/site-packages/matplotlib/axes/_base.py:3025: UserWarning: Attempting to set identical bottom==top results\n",
      "in singular transformations; automatically expanding.\n",
      "bottom=0.0, top=0.0\n",
      "  'bottom=%s, top=%s') % (bottom, top))\n"
     ]
    },
    {
     "data": {
      "image/png": "[encoded data removed]",
      "text/plain": [
       "<matplotlib.figure.Figure at 0x7f98e6f99b10>"
      ]
     },
     "metadata": {},
     "output_type": "display_data"
    }
   ],
   "source": [
    "numerics = ['int16', 'int32', 'int64', 'float16', 'float32', 'float64']\n",
    "\n",
    "sampled_data = df_data_1.select_dtypes(include=numerics).sample(frac=0.1)\n",
    "\n",
    "axs = pd.scatter_matrix(sampled_data, figsize=(12, 12));\n",
    "\n",
    "# Rotate axis labels and remove axis ticks\n",
    "n = len(sampled_data.columns)\n",
    "for i in range(n):\n",
    "    v = axs[i, 0]\n",
    "    v.yaxis.label.set_rotation(0)\n",
    "    v.yaxis.label.set_ha('right')\n",
    "    v.set_yticks(())\n",
    "    h = axs[n-1, i]\n",
    "    h.xaxis.label.set_rotation(90)\n",
    "    h.set_xticks(())"
   ]
  },
  {
   "cell_type": "markdown",
   "metadata": {},
   "source": [
    "Plot a few features to get a better idea of each:"
   ]
  },
  {
   "cell_type": "code",
   "execution_count": 10,
   "metadata": {
    "scrolled": false
   },
   "outputs": [
    {
     "data": {
      "image/png": "[encoded data removed]",
      "text/plain": [
       "<matplotlib.figure.Figure at 0x7f98da7aab50>"
      ]
     },
     "metadata": {},
     "output_type": "display_data"
    }
   ],
   "source": [
    "# Size of matplotlib figures that contain subplots\n",
    "fizsize_with_subplots = (10, 10)\n",
    "\n",
    "# Set up a grid of plots\n",
    "fig = plt.figure(figsize=fizsize_with_subplots) \n",
    "fig_dims = (3, 2)\n",
    "\n",
    "# Plot churn counts\n",
    "plt.subplot2grid(fig_dims, (0, 0))\n",
    "df_data_1['CHURN'].value_counts().plot(kind='bar', title='Churn Counts')\n",
    "\n",
    "# Plot state counts\n",
    "plt.subplot2grid(fig_dims, (0, 1))\n",
    "df_data_1['SEX'].value_counts().plot(kind='bar', title='Sex Counts')\n",
    "\n",
    "# Plot area code counts\n",
    "plt.subplot2grid(fig_dims, (1, 0))\n",
    "df_data_1['EDUCATION'].value_counts().plot(kind='bar', title='Education Counts')\n",
    "plt.xticks(rotation=0)\n",
    "\n",
    "plt.subplot2grid(fig_dims, (1, 1))\n",
    "df_data_1['STATE'].value_counts().plot(kind='bar', title='State Counts')\n",
    "\n",
    "plt.subplot2grid(fig_dims, (2, 0))\n",
    "df_data_1['NEGTWEETS'].value_counts().plot(kind='bar', title='NEGTWEETS Counts')\n",
    "\n",
    "# Plot the Age histogram\n",
    "plt.subplot2grid(fig_dims, (2, 1))\n",
    "df_data_1['AGE'].hist()\n",
    "plt.title('Age Histogram')\n",
    "\n",
    "plt.show()"
   ]
  },
  {
   "cell_type": "code",
   "execution_count": 11,
   "metadata": {},
   "outputs": [
    {
     "data": {
      "text/html": [
       "<div>\n",
       "<table border=\"1\" class=\"dataframe\">\n",
       "  <thead>\n",
       "    <tr style=\"text-align: right;\">\n",
       "      <th></th>\n",
       "      <th>CUST_ID</th>\n",
       "      <th>SEX</th>\n",
       "      <th>AGE</th>\n",
       "      <th>EDUCATION</th>\n",
       "      <th>INVESTMENT</th>\n",
       "      <th>INCOME</th>\n",
       "      <th>ACTIVITY</th>\n",
       "      <th>YRLY_AMT</th>\n",
       "      <th>AVG_DAILY_TX</th>\n",
       "      <th>YRLY_TX</th>\n",
       "      <th>AVG_TX_AMT</th>\n",
       "      <th>NEGTWEETS</th>\n",
       "      <th>STATE</th>\n",
       "      <th>EDUCATION_GROUP</th>\n",
       "      <th>TwitterID</th>\n",
       "      <th>CHURN_LABEL</th>\n",
       "    </tr>\n",
       "    <tr>\n",
       "      <th>CHURN</th>\n",
       "      <th></th>\n",
       "      <th></th>\n",
       "      <th></th>\n",
       "      <th></th>\n",
       "      <th></th>\n",
       "      <th></th>\n",
       "      <th></th>\n",
       "      <th></th>\n",
       "      <th></th>\n",
       "      <th></th>\n",
       "      <th></th>\n",
       "      <th></th>\n",
       "      <th></th>\n",
       "      <th></th>\n",
       "      <th></th>\n",
       "      <th></th>\n",
       "    </tr>\n",
       "  </thead>\n",
       "  <tbody>\n",
       "    <tr>\n",
       "      <th>0</th>\n",
       "      <td>4472</td>\n",
       "      <td>4472</td>\n",
       "      <td>4472</td>\n",
       "      <td>4472</td>\n",
       "      <td>4472</td>\n",
       "      <td>4472</td>\n",
       "      <td>4472</td>\n",
       "      <td>4472</td>\n",
       "      <td>4472</td>\n",
       "      <td>4472</td>\n",
       "      <td>4472</td>\n",
       "      <td>4472</td>\n",
       "      <td>4472</td>\n",
       "      <td>4472</td>\n",
       "      <td>4472</td>\n",
       "      <td>4472</td>\n",
       "    </tr>\n",
       "    <tr>\n",
       "      <th>1</th>\n",
       "      <td>1529</td>\n",
       "      <td>1529</td>\n",
       "      <td>1529</td>\n",
       "      <td>1529</td>\n",
       "      <td>1529</td>\n",
       "      <td>1529</td>\n",
       "      <td>1529</td>\n",
       "      <td>1529</td>\n",
       "      <td>1529</td>\n",
       "      <td>1529</td>\n",
       "      <td>1529</td>\n",
       "      <td>1529</td>\n",
       "      <td>1529</td>\n",
       "      <td>1529</td>\n",
       "      <td>1529</td>\n",
       "      <td>1529</td>\n",
       "    </tr>\n",
       "  </tbody>\n",
       "</table>\n",
       "</div>"
      ],
      "text/plain": [
       "       CUST_ID   SEX   AGE  EDUCATION  INVESTMENT  INCOME  ACTIVITY  YRLY_AMT  \\\n",
       "CHURN                                                                           \n",
       "0         4472  4472  4472       4472        4472    4472      4472      4472   \n",
       "1         1529  1529  1529       1529        1529    1529      1529      1529   \n",
       "\n",
       "       AVG_DAILY_TX  YRLY_TX  AVG_TX_AMT  NEGTWEETS  STATE  EDUCATION_GROUP  \\\n",
       "CHURN                                                                         \n",
       "0              4472     4472        4472       4472   4472             4472   \n",
       "1              1529     1529        1529       1529   1529             1529   \n",
       "\n",
       "       TwitterID  CHURN_LABEL  \n",
       "CHURN                          \n",
       "0           4472         4472  \n",
       "1           1529         1529  "
      ]
     },
     "execution_count": 11,
     "metadata": {},
     "output_type": "execute_result"
    }
   ],
   "source": [
    "df_data_1.groupby('CHURN').count()"
   ]
  },
  {
   "cell_type": "code",
   "execution_count": 12,
   "metadata": {},
   "outputs": [
    {
     "data": {
      "text/html": [
       "<div>\n",
       "<table border=\"1\" class=\"dataframe\">\n",
       "  <thead>\n",
       "    <tr style=\"text-align: right;\">\n",
       "      <th>CHURN</th>\n",
       "      <th>0</th>\n",
       "      <th>1</th>\n",
       "    </tr>\n",
       "    <tr>\n",
       "      <th>SEX</th>\n",
       "      <th></th>\n",
       "      <th></th>\n",
       "    </tr>\n",
       "  </thead>\n",
       "  <tbody>\n",
       "    <tr>\n",
       "      <th>F</th>\n",
       "      <td>2159</td>\n",
       "      <td>763</td>\n",
       "    </tr>\n",
       "    <tr>\n",
       "      <th>M</th>\n",
       "      <td>2313</td>\n",
       "      <td>766</td>\n",
       "    </tr>\n",
       "  </tbody>\n",
       "</table>\n",
       "</div>"
      ],
      "text/plain": [
       "CHURN     0    1\n",
       "SEX             \n",
       "F      2159  763\n",
       "M      2313  766"
      ]
     },
     "execution_count": 12,
     "metadata": {},
     "output_type": "execute_result"
    }
   ],
   "source": [
    "iplan_xt = pd.crosstab(df_data_1['SEX'], df_data_1['CHURN'])\n",
    "iplan_xt"
   ]
  },
  {
   "cell_type": "markdown",
   "metadata": {},
   "source": [
    "#### Churner by state"
   ]
  },
  {
   "cell_type": "code",
   "execution_count": 13,
   "metadata": {},
   "outputs": [
    {
     "data": {
      "text/html": [
       "<div>\n",
       "<table border=\"1\" class=\"dataframe\">\n",
       "  <thead>\n",
       "    <tr style=\"text-align: right;\">\n",
       "      <th></th>\n",
       "      <th>STATE</th>\n",
       "      <th>count</th>\n",
       "    </tr>\n",
       "  </thead>\n",
       "  <tbody>\n",
       "    <tr>\n",
       "      <th>0</th>\n",
       "      <td>CA</td>\n",
       "      <td>173</td>\n",
       "    </tr>\n",
       "    <tr>\n",
       "      <th>1</th>\n",
       "      <td>CT</td>\n",
       "      <td>5</td>\n",
       "    </tr>\n",
       "    <tr>\n",
       "      <th>2</th>\n",
       "      <td>ID</td>\n",
       "      <td>194</td>\n",
       "    </tr>\n",
       "    <tr>\n",
       "      <th>3</th>\n",
       "      <td>MD</td>\n",
       "      <td>196</td>\n",
       "    </tr>\n",
       "    <tr>\n",
       "      <th>4</th>\n",
       "      <td>MI</td>\n",
       "      <td>181</td>\n",
       "    </tr>\n",
       "  </tbody>\n",
       "</table>\n",
       "</div>"
      ],
      "text/plain": [
       "  STATE  count\n",
       "0    CA    173\n",
       "1    CT      5\n",
       "2    ID    194\n",
       "3    MD    196\n",
       "4    MI    181"
      ]
     },
     "execution_count": 13,
     "metadata": {},
     "output_type": "execute_result"
    }
   ],
   "source": [
    "grouped_by_state = df_data_1.loc[df_data_1['CHURN'] == 1].groupby('STATE').CHURN.count().reset_index(name=\"count\")\n",
    "grouped_by_state.head()"
   ]
  },
  {
   "cell_type": "code",
   "execution_count": 14,
   "metadata": {
    "scrolled": true
   },
   "outputs": [
    {
     "data": {
      "text/html": [
       "<!--\n",
       "  ~ Copyright (c) 2015 IBM Corporation and others.\n",
       "  ~\n",
       "  ~ Licensed under the Apache License, Version 2.0 (the \"License\");\n",
       "  ~ You may not use this file except in compliance with the License.\n",
       "  ~ You may obtain a copy of the License at\n",
       "  ~\n",
       "  ~     http://www.apache.org/licenses/LICENSE-2.0\n",
       "  ~\n",
       "  ~ Unless required by applicable law or agreed to in writing, software\n",
       "  ~ distributed under the License is distributed on an \"AS IS\" BASIS,\n",
       "  ~ WITHOUT WARRANTIES OR CONDITIONS OF ANY KIND, either express or implied.\n",
       "  ~ See the License for the specific language governing permissions and\n",
       "  ~ limitations under the License.\n",
       "  -->\n",
       "\n",
       "\n",
       "<link rel=\"stylesheet\" type=\"text/css\" href=\"/data/jupyter2/b4e1cfeb-e307-4b7d-a830-828db847f6dd/nbextensions/brunel_ext/brunel.2.3.css\">\n",
       "<link rel=\"stylesheet\" type=\"text/css\" href=\"/data/jupyter2/b4e1cfeb-e307-4b7d-a830-828db847f6dd/nbextensions/brunel_ext/sumoselect.css\">\n",
       "\n",
       "<style>\n",
       "    \n",
       "</style>\n",
       "\n",
       "<div id=\"controlsidb1098f5c-f3bd-11e7-9e1e-002590fb6b10\" class=\"brunel\"/>\n",
       "<svg id=\"visidb1098a48-f3bd-11e7-9e1e-002590fb6b10\" width=\"800\" height=\"500\"></svg>"
      ],
      "text/plain": [
       "<IPython.core.display.HTML object>"
      ]
     },
     "metadata": {},
     "output_type": "display_data"
    },
    {
     "data": {
      "application/javascript": [
       "/*\n",
       " * Copyright (c) 2015 IBM Corporation and others.\n",
       " *\n",
       " * Licensed under the Apache License, Version 2.0 (the \"License\");\n",
       " * You may not use this file except in compliance with the License.\n",
       " * You may obtain a copy of the License at\n",
       " *\n",
       " *     http://www.apache.org/licenses/LICENSE-2.0\n",
       " *\n",
       " * Unless required by applicable law or agreed to in writing, software\n",
       " * distributed under the License is distributed on an \"AS IS\" BASIS,\n",
       " * WITHOUT WARRANTIES OR CONDITIONS OF ANY KIND, either express or implied.\n",
       " * See the License for the specific language governing permissions and\n",
       " * limitations under the License.\n",
       " */\n",
       "\n",
       "require.config({\n",
       "    waitSeconds: 60,\n",
       "    paths: {\n",
       "        'd3': '//cdnjs.cloudflare.com/ajax/libs/d3/4.2.1/d3.min',\n",
       "        'topojson': '//cdnjs.cloudflare.com/ajax/libs/topojson/1.6.20/topojson.min',\n",
       "        'brunel' : '/data/jupyter2/b4e1cfeb-e307-4b7d-a830-828db847f6dd/nbextensions/brunel_ext/brunel.2.3.min',\n",
       "        'brunelControls' : '/data/jupyter2/b4e1cfeb-e307-4b7d-a830-828db847f6dd/nbextensions/brunel_ext/brunel.controls.2.3.min'\n",
       "    },\n",
       "    shim: {\n",
       "       'brunel' : {\n",
       "            exports: 'BrunelD3',\n",
       "            deps: ['d3', 'topojson'],\n",
       "            init: function() {\n",
       "               return {\n",
       "                 BrunelD3 : BrunelD3,\n",
       "                 BrunelData : BrunelData\n",
       "              }\n",
       "            }\n",
       "        },\n",
       "       'brunelControls' : {\n",
       "            exports: 'BrunelEventHandlers',\n",
       "            init: function() {\n",
       "               return {\n",
       "                 BrunelEventHandlers: BrunelEventHandlers,\n",
       "                 BrunelJQueryControlFactory: BrunelJQueryControlFactory\n",
       "              }\n",
       "            }\n",
       "        }\n",
       "\n",
       "    }\n",
       "\n",
       "});\n",
       "\n",
       "require([\"d3\"], function(d3) {\n",
       "    require([\"brunel\", \"brunelControls\"], function(brunel, brunelControls) {\n",
       "        function  BrunelVis(visId) {\n",
       "  \"use strict\";                                                                       // strict mode\n",
       "  var datasets = [],                                      // array of datasets for the original data\n",
       "      pre = function(d, i) { return d },                         // default pre-process does nothing\n",
       "      post = function(d, i) { return d },                       // default post-process does nothing\n",
       "      transitionTime = 200,                                        // transition time for animations\n",
       "      charts = [],                                                       // the charts in the system\n",
       "      vis = d3.select('#' + visId).attr('class', 'brunel');                     // the SVG container\n",
       "\n",
       "  BrunelD3.addDefinitions(vis);                                   // ensure standard symbols present\n",
       "\n",
       "  // Define chart #1 in the visualization //////////////////////////////////////////////////////////\n",
       "\n",
       "  charts[0] = function(parentNode, filterRows) {\n",
       "    var geom = BrunelD3.geometry(parentNode || vis.node(), 0, 0, 1, 1, 0, 0, 0, 60),\n",
       "      elements = [];                                              // array of elements in this chart\n",
       "\n",
       "    // Define groups for the chart parts ///////////////////////////////////////////////////////////\n",
       "\n",
       "    var chart =  vis.append('g').attr('class', 'chart1')\n",
       "      .attr('transform','translate(' + geom.chart_left + ',' + geom.chart_top + ')');\n",
       "    var overlay = chart.append('g').attr('class', 'element').attr('class', 'overlay');\n",
       "    var zoom = d3.zoom().scaleExtent([1/5,5]);\n",
       "    var zoomNode = overlay.append('rect').attr('class', 'overlay')\n",
       "      .attr('x', geom.inner_left).attr('y', geom.inner_top)\n",
       "      .attr('width', geom.inner_rawWidth).attr('height', geom.inner_rawHeight)\n",
       "      .style('cursor', 'move').call(zoom)\n",
       "      .node();\n",
       "    zoomNode.__zoom = d3.zoomIdentity;\n",
       "    chart.append('rect').attr('class', 'background').attr('width', geom.chart_right-geom.chart_left).attr('height', geom.chart_bottom-geom.chart_top);\n",
       "    var interior = chart.append('g').attr('class', 'interior zoomNone')\n",
       "      .attr('transform','translate(' + geom.inner_left + ',' + geom.inner_top + ')')\n",
       "      .attr('clip-path', 'url(#clip_visidb1098a48-f3bd-11e7-9e1e-002590fb6b10_chart1_inner)');\n",
       "    interior.append('rect').attr('class', 'inner').attr('width', geom.inner_width).attr('height', geom.inner_height);\n",
       "    var gridGroup = interior.append('g').attr('class', 'grid');\n",
       "    var legends = chart.append('g').attr('class', 'legend')\n",
       "      .attr('transform','translate(' + (geom.chart_right-geom.chart_left - 3) + ',' + 0 + ')');\n",
       "    vis.append('clipPath').attr('id', 'clip_visidb1098a48-f3bd-11e7-9e1e-002590fb6b10_chart1_inner').append('rect')\n",
       "      .attr('x', 0).attr('y', 0)\n",
       "      .attr('width', geom.inner_rawWidth+1).attr('height', geom.inner_rawHeight+1);\n",
       "\n",
       "    // Projection //////////////////////////////////////////////////////////////////////////////////\n",
       "\n",
       "    var base = d3.geoAlbersUsa()\n",
       "      .scale(Math.min(geom.inner_width/0.96, geom.inner_height/0.48))\n",
       "      .translate([geom.inner_width/2, geom.inner_height/2])\n",
       "    function projection(p) {\n",
       "        var q = base(p), t = d3.zoomTransform(zoomNode);\n",
       "        return q ? [t.k*q[0]+t.x, t.k*q[1]+t.y] : null;\n",
       "    };\n",
       "    function project_center(v) { return (v ? projection([v.c, v.d]) : null) || [-9e6, -9e6] };\n",
       "    var path = d3.geoPath().projection(BrunelD3.geoStream(projection));\n",
       "    var scale_x = d3.scaleLinear(), scale_y = d3.scaleLinear();\n",
       "    var base_scales = [scale_x, scale_y];                           // untransformed original scales\n",
       "    zoom.on('zoom', function(t, time) {\n",
       "        t = t || d3.event.transform;\n",
       "        zoomNode.__zoom = t;\n",
       "        interior.attr('class', 'interior ' + BrunelD3.zoomLabel(t.k));;\n",
       "        build(time || -1);\n",
       "    });\n",
       "\n",
       "    // Define element #1 ///////////////////////////////////////////////////////////////////////////\n",
       "\n",
       "    elements[0] = function() {\n",
       "      var original, processed,                           // data sets passed in and then transformed\n",
       "        element, data,                                 // brunel element information and brunel data\n",
       "        selection, merged;                                      // d3 selection and merged selection\n",
       "      var elementGroup = interior.append('g').attr('class', 'element1'),\n",
       "        main = elementGroup.append('g').attr('class', 'main'),\n",
       "        labels = BrunelD3.undoTransform(elementGroup.append('g').attr('class', 'labels').attr('aria-hidden', 'true'), elementGroup);\n",
       "\n",
       "      function makeData() {\n",
       "        original = datasets[0];\n",
       "        if (filterRows) original = original.retainRows(filterRows);\n",
       "        processed = pre(original, 0);\n",
       "        processed = post(processed, 0);\n",
       "        var f0 = processed.field('STATE'),\n",
       "          f1 = processed.field('count'),\n",
       "          f2 = processed.field('#row'),\n",
       "          f3 = processed.field('#selection');\n",
       "        var keyFunc = function(d) { return f0.value(d) };\n",
       "        data = {\n",
       "          STATE:        function(d) { return f0.value(d.row) },\n",
       "          count:        function(d) { return f1.value(d.row) },\n",
       "          $row:         function(d) { return f2.value(d.row) },\n",
       "          $selection:   function(d) { return f3.value(d.row) },\n",
       "          STATE_f:      function(d) { return f0.valueFormatted(d.row) },\n",
       "          count_f:      function(d) { return f1.valueFormatted(d.row) },\n",
       "          $row_f:       function(d) { return f2.valueFormatted(d.row) },\n",
       "          $selection_f: function(d) { return f3.valueFormatted(d.row) },\n",
       "          _split:       function(d) { return f1.value(d.row) },\n",
       "          _key:         keyFunc,\n",
       "          _rows:        BrunelD3.makeRowsWithKeys(keyFunc, processed.rowCount())\n",
       "        };\n",
       "      }\n",
       "      // Aesthetic Functions\n",
       "      var scale_color = d3.scaleLinear().domain([2, 26.375, 50.75, 75.125, 99.5, 123.875, 148.25, 172.625, 197])\n",
       "        .interpolate(d3.interpolateHcl)\n",
       "        .range([ '#045a8d', '#2b8cbe', '#74a9cf', '#bdc9e1', '#f8efe8', '#fef0d9', \n",
       "          '#fdcc8a', '#fc8d59', '#e34a33']);\n",
       "      var color = function(d) { return scale_color(data.count(d)) };\n",
       "      legends._legend = legends._legend || { title: ['Count'], \n",
       "        ticks: [200, 150, 100, 50, 0]};\n",
       "      legends._legend.color = scale_color;\n",
       "\n",
       "      // Build element from data ///////////////////////////////////////////////////////////////////\n",
       "\n",
       "      function build(transitionMillis) {\n",
       "        element = elements[0];\n",
       "        // Read in the feature data and call build again when done\n",
       "        var features = {\n",
       "          'https://brunelvis.org/geo/2.3/med/USA48.json': {'CA':3462, 'CT':3478, \n",
       "                'ID':3459, 'MD':3498, 'MI':3503, 'ND':3457, 'NY':3500, 'OR':3466, \n",
       "                'PA':3501, 'TX':3477, 'WA':3460\n",
       "          }\n",
       "        };\n",
       "        if (BrunelD3.addFeatures(data, features, null, data.STATE, this, transitionMillis)) return;\n",
       "        main.attr('class', 'diagram map');\n",
       "        var labeling  = [{\n",
       "          where: function(box,text,d) {var p = project_center(d.geo_properties); return {box:box, x:p[0], y:p[1]}},\n",
       "          fit: true, granularity: 1,\n",
       "          content: function(d) {\n",
       "            return d.row == null ? null : data.STATE_f(d)\n",
       "          }\n",
       "        }];\n",
       "\n",
       "        // Define selection entry operations\n",
       "        function initialState(selection) {\n",
       "          selection\n",
       "            .attr('class', 'element polygon filled')\n",
       "            .classed('nondata', function(d) {return !d || d.row == null})\n",
       "        }\n",
       "\n",
       "        // Define selection update operations on merged data\n",
       "        function updateState(selection) {\n",
       "          selection\n",
       "            .attr('d', function(d) { return path(d).replace(/,L/g, 'L').replace(/,Z/g, 'Z') })\n",
       "            .filter(BrunelD3.hasData)                     // following only performed for data items\n",
       "            .style('fill', color);\n",
       "        }\n",
       "\n",
       "        // Define labeling for the selection\n",
       "        function label(selection, transitionMillis) {\n",
       "          BrunelD3.label(selection, labels, transitionMillis, geom, labeling);\n",
       "\n",
       "          var tooltipLabeling  = {\n",
       "            where: function(box,text,d) {var p = project_center(d.geo_properties); return {box:box, x:p[0], y:p[1]}},\n",
       "            fit: true, granularity: 0,\n",
       "            content: function(d) {\n",
       "              return d.row == null ? null : '<span class=\"title\">STATE: </span>'\n",
       "\t\t\t+ '<span class=\"field\">' + data.STATE_f(d) + '</span>'\n",
       "\t\t\t+ '<br/>'\n",
       "\t\t\t+ '<span class=\"title\">Count: </span>'\n",
       "\t\t\t+ '<span class=\"field\">' + data.count_f(d) + '</span>'\n",
       "            }\n",
       "          };\n",
       "          BrunelD3.addTooltip(selection, tooltipLabeling, geom);\n",
       "        }\n",
       "        // Create selections, set the initial state and transition updates\n",
       "        selection = main.selectAll('.element').data(data._rows, function(d) { return d.key });\n",
       "        var added = selection.enter().append('path');\n",
       "        merged = selection.merge(added);\n",
       "        initialState(added);\n",
       "        selection.filter(BrunelD3.hasData)\n",
       "          .classed('selected', BrunelD3.isSelected(data))\n",
       "          .filter(BrunelD3.isSelected(data)).raise();\n",
       "        updateState(BrunelD3.transition(merged, transitionMillis));\n",
       "        label(merged, transitionMillis);\n",
       "\n",
       "        BrunelD3.transition(selection.exit(), transitionMillis/3)\n",
       "          .style('opacity', 0.5).each( function() {\n",
       "            this.remove(); BrunelD3.removeLabels(this); \n",
       "        });\n",
       "      }\n",
       "\n",
       "      return {\n",
       "        data:           function() { return processed },\n",
       "        original:       function() { return original },\n",
       "        internal:       function() { return data },\n",
       "        selection:      function() { return merged },\n",
       "        makeData:       makeData,\n",
       "        build:          build,\n",
       "        chart:          function() { return charts[0] },\n",
       "        group:          function() { return elementGroup },\n",
       "        fields: {\n",
       "          x:            ['STATE'],\n",
       "          key:          ['STATE'],\n",
       "          color:        ['count']\n",
       "        }\n",
       "      };\n",
       "    }();\n",
       "\n",
       "    function build(time, noData) {\n",
       "      var first = elements[0].data() == null;\n",
       "      if (first) time = 0;                                           // no transition for first call\n",
       "      if ((first || time > -1) && !noData) {\n",
       "        elements[0].makeData();\n",
       "        BrunelD3.addLegend(legends, legends._legend);\n",
       "      }\n",
       "      elements[0].build(time);\n",
       "    }\n",
       "\n",
       "    // Expose the following components of the chart\n",
       "    return {\n",
       "      elements : elements,\n",
       "      interior : interior,\n",
       "      zoom: function(params, time) {\n",
       "          if (params) zoom.on('zoom').call(zoomNode, params, time);\n",
       "          return d3.zoomTransform(zoomNode);\n",
       "      },\n",
       "      build : build\n",
       "    };\n",
       "    }();\n",
       "\n",
       "  function setData(rowData, i) { datasets[i||0] = BrunelD3.makeData(rowData) }\n",
       "  function updateAll(time) { charts.forEach(function(x) {x.build(time || 0)}) }\n",
       "  function buildAll() {\n",
       "    for (var i=0;i<arguments.length;i++) setData(arguments[i], i);\n",
       "    updateAll(transitionTime);\n",
       "  }\n",
       "\n",
       "  return {\n",
       "    dataPreProcess:     function(f) { if (f) pre = f; return pre },\n",
       "    dataPostProcess:    function(f) { if (f) post = f; return post },\n",
       "    data:               function(d,i) { if (d) setData(d,i); return datasets[i||0] },\n",
       "    visId:              visId,\n",
       "    build:              buildAll,\n",
       "    rebuild:            updateAll,\n",
       "    charts:             charts\n",
       "  }\n",
       "}\n",
       "\n",
       "// Data Tables /////////////////////////////////////////////////////////////////////////////////////\n",
       "\n",
       "var table1 = {\n",
       "   summarized: false,\n",
       "   names: ['STATE', 'count'], \n",
       "   options: ['string', 'numeric'], \n",
       "   rows: [['CA', 173], ['CT', 5], ['ID', 194], ['MD', 196], ['MI', 181], ['ND', 197], ['NY', 2],\n",
       "  ['OR', 190], ['PA', 197], ['TX', 5], ['WA', 189]]\n",
       "};\n",
       "\n",
       "// Call Code to Build the system ///////////////////////////////////////////////////////////////////\n",
       "\n",
       "var v  = new BrunelVis('visidb1098a48-f3bd-11e7-9e1e-002590fb6b10');\n",
       "v.build(table1);\n",
       "\n",
       "    });\n",
       "});"
      ],
      "text/plain": [
       "<IPython.core.display.Javascript object>"
      ]
     },
     "execution_count": 14,
     "metadata": {},
     "output_type": "execute_result"
    }
   ],
   "source": [
    "import brunel\n",
    "\n",
    "%brunel data('grouped_by_state') map key(STATE) x(STATE) color(count) label(STATE) tooltip(#all) :: width=800, height=500"
   ]
  },
  {
   "cell_type": "markdown",
   "metadata": {},
   "source": [
    "## 3.  Data preparation\n"
   ]
  },
  {
   "cell_type": "markdown",
   "metadata": {},
   "source": [
    "we're going to remove several highly correlated fields, ie Total day minutes and Total day charge. Such correlated data won't be very beneficial for our model training runs."
   ]
  },
  {
   "cell_type": "code",
   "execution_count": 15,
   "metadata": {},
   "outputs": [
    {
     "data": {
      "text/html": [
       "<div>\n",
       "<table border=\"1\" class=\"dataframe\">\n",
       "  <thead>\n",
       "    <tr style=\"text-align: right;\">\n",
       "      <th></th>\n",
       "      <th>SEX</th>\n",
       "      <th>AGE</th>\n",
       "      <th>EDUCATION</th>\n",
       "      <th>INVESTMENT</th>\n",
       "      <th>INCOME</th>\n",
       "      <th>ACTIVITY</th>\n",
       "      <th>CHURN</th>\n",
       "      <th>YRLY_AMT</th>\n",
       "      <th>AVG_DAILY_TX</th>\n",
       "      <th>YRLY_TX</th>\n",
       "      <th>AVG_TX_AMT</th>\n",
       "      <th>NEGTWEETS</th>\n",
       "      <th>STATE</th>\n",
       "    </tr>\n",
       "  </thead>\n",
       "  <tbody>\n",
       "    <tr>\n",
       "      <th>0</th>\n",
       "      <td>F</td>\n",
       "      <td>84</td>\n",
       "      <td>2</td>\n",
       "      <td>114368</td>\n",
       "      <td>3852862</td>\n",
       "      <td>5</td>\n",
       "      <td>0</td>\n",
       "      <td>700259</td>\n",
       "      <td>0.917808</td>\n",
       "      <td>335</td>\n",
       "      <td>2090.3200</td>\n",
       "      <td>3</td>\n",
       "      <td>TX</td>\n",
       "    </tr>\n",
       "    <tr>\n",
       "      <th>1</th>\n",
       "      <td>F</td>\n",
       "      <td>44</td>\n",
       "      <td>2</td>\n",
       "      <td>90298</td>\n",
       "      <td>3849843</td>\n",
       "      <td>1</td>\n",
       "      <td>0</td>\n",
       "      <td>726977</td>\n",
       "      <td>0.950685</td>\n",
       "      <td>347</td>\n",
       "      <td>2095.0400</td>\n",
       "      <td>2</td>\n",
       "      <td>CA</td>\n",
       "    </tr>\n",
       "    <tr>\n",
       "      <th>2</th>\n",
       "      <td>F</td>\n",
       "      <td>23</td>\n",
       "      <td>2</td>\n",
       "      <td>94881</td>\n",
       "      <td>3217364</td>\n",
       "      <td>1</td>\n",
       "      <td>1</td>\n",
       "      <td>579084</td>\n",
       "      <td>0.920548</td>\n",
       "      <td>336</td>\n",
       "      <td>1723.4600</td>\n",
       "      <td>5</td>\n",
       "      <td>CA</td>\n",
       "    </tr>\n",
       "    <tr>\n",
       "      <th>3</th>\n",
       "      <td>F</td>\n",
       "      <td>24</td>\n",
       "      <td>2</td>\n",
       "      <td>112099</td>\n",
       "      <td>2438218</td>\n",
       "      <td>4</td>\n",
       "      <td>1</td>\n",
       "      <td>470964</td>\n",
       "      <td>0.994521</td>\n",
       "      <td>363</td>\n",
       "      <td>1297.4199</td>\n",
       "      <td>2</td>\n",
       "      <td>WA</td>\n",
       "    </tr>\n",
       "    <tr>\n",
       "      <th>4</th>\n",
       "      <td>F</td>\n",
       "      <td>67</td>\n",
       "      <td>5</td>\n",
       "      <td>84638</td>\n",
       "      <td>2428245</td>\n",
       "      <td>3</td>\n",
       "      <td>0</td>\n",
       "      <td>446615</td>\n",
       "      <td>0.917808</td>\n",
       "      <td>335</td>\n",
       "      <td>1333.1799</td>\n",
       "      <td>3</td>\n",
       "      <td>CT</td>\n",
       "    </tr>\n",
       "  </tbody>\n",
       "</table>\n",
       "</div>"
      ],
      "text/plain": [
       "  SEX  AGE  EDUCATION  INVESTMENT   INCOME  ACTIVITY  CHURN  YRLY_AMT  \\\n",
       "0   F   84          2      114368  3852862         5      0    700259   \n",
       "1   F   44          2       90298  3849843         1      0    726977   \n",
       "2   F   23          2       94881  3217364         1      1    579084   \n",
       "3   F   24          2      112099  2438218         4      1    470964   \n",
       "4   F   67          5       84638  2428245         3      0    446615   \n",
       "\n",
       "   AVG_DAILY_TX  YRLY_TX  AVG_TX_AMT  NEGTWEETS STATE  \n",
       "0      0.917808      335   2090.3200          3    TX  \n",
       "1      0.950685      347   2095.0400          2    CA  \n",
       "2      0.920548      336   1723.4600          5    CA  \n",
       "3      0.994521      363   1297.4199          2    WA  \n",
       "4      0.917808      335   1333.1799          3    CT  "
      ]
     },
     "execution_count": 15,
     "metadata": {},
     "output_type": "execute_result"
    }
   ],
   "source": [
    "df_data_1 = df_data_1.drop(['CUST_ID',\\\n",
    "                            'TwitterID',\\\n",
    "                            'CHURN_LABEL',\\\n",
    "                            'EDUCATION_GROUP'], axis=1)\n",
    "    \n",
    "df_data_1.head()"
   ]
  },
  {
   "cell_type": "markdown",
   "metadata": {},
   "source": [
    "The original dataset contains both numerical variables and categorical variables. To make the columns more meaningful, we will transfrom string columns to numeric represenations"
   ]
  },
  {
   "cell_type": "code",
   "execution_count": 16,
   "metadata": {},
   "outputs": [
    {
     "data": {
      "text/plain": [
       "SEX      object\n",
       "STATE    object\n",
       "dtype: object"
      ]
     },
     "execution_count": 16,
     "metadata": {},
     "output_type": "execute_result"
    }
   ],
   "source": [
    "df_data_1.dtypes[df_data_1.dtypes.map(lambda x: x == 'object')]"
   ]
  },
  {
   "cell_type": "markdown",
   "metadata": {},
   "source": [
    "These variables might have also played a role in determining a customer's churn rate. We'll need to map those variables from a string to a number to prepare it for machine learning algorithms.\n",
    "\n",
    "Generate a mapping of the variable from a string to a number representation:"
   ]
  },
  {
   "cell_type": "code",
   "execution_count": 17,
   "metadata": {},
   "outputs": [
    {
     "data": {
      "text/plain": [
       "{'F': 0, 'M': 1}"
      ]
     },
     "execution_count": 17,
     "metadata": {},
     "output_type": "execute_result"
    }
   ],
   "source": [
    "international_plan_values = sorted(df_data_1['SEX'].unique())\n",
    "international_plan_mapping = dict(zip(international_plan_values, range(0, len(international_plan_values) + 1)))\n",
    "international_plan_mapping"
   ]
  },
  {
   "cell_type": "markdown",
   "metadata": {},
   "source": [
    "Transform the variable from a string to a number representation:"
   ]
  },
  {
   "cell_type": "code",
   "execution_count": 18,
   "metadata": {},
   "outputs": [
    {
     "data": {
      "text/html": [
       "<div>\n",
       "<table border=\"1\" class=\"dataframe\">\n",
       "  <thead>\n",
       "    <tr style=\"text-align: right;\">\n",
       "      <th></th>\n",
       "      <th>SEX</th>\n",
       "      <th>AGE</th>\n",
       "      <th>EDUCATION</th>\n",
       "      <th>INVESTMENT</th>\n",
       "      <th>INCOME</th>\n",
       "      <th>ACTIVITY</th>\n",
       "      <th>CHURN</th>\n",
       "      <th>YRLY_AMT</th>\n",
       "      <th>AVG_DAILY_TX</th>\n",
       "      <th>YRLY_TX</th>\n",
       "      <th>AVG_TX_AMT</th>\n",
       "      <th>NEGTWEETS</th>\n",
       "      <th>STATE</th>\n",
       "      <th>SEX_CODE</th>\n",
       "    </tr>\n",
       "  </thead>\n",
       "  <tbody>\n",
       "    <tr>\n",
       "      <th>0</th>\n",
       "      <td>F</td>\n",
       "      <td>84</td>\n",
       "      <td>2</td>\n",
       "      <td>114368</td>\n",
       "      <td>3852862</td>\n",
       "      <td>5</td>\n",
       "      <td>0</td>\n",
       "      <td>700259</td>\n",
       "      <td>0.917808</td>\n",
       "      <td>335</td>\n",
       "      <td>2090.3200</td>\n",
       "      <td>3</td>\n",
       "      <td>TX</td>\n",
       "      <td>0</td>\n",
       "    </tr>\n",
       "    <tr>\n",
       "      <th>1</th>\n",
       "      <td>F</td>\n",
       "      <td>44</td>\n",
       "      <td>2</td>\n",
       "      <td>90298</td>\n",
       "      <td>3849843</td>\n",
       "      <td>1</td>\n",
       "      <td>0</td>\n",
       "      <td>726977</td>\n",
       "      <td>0.950685</td>\n",
       "      <td>347</td>\n",
       "      <td>2095.0400</td>\n",
       "      <td>2</td>\n",
       "      <td>CA</td>\n",
       "      <td>0</td>\n",
       "    </tr>\n",
       "    <tr>\n",
       "      <th>2</th>\n",
       "      <td>F</td>\n",
       "      <td>23</td>\n",
       "      <td>2</td>\n",
       "      <td>94881</td>\n",
       "      <td>3217364</td>\n",
       "      <td>1</td>\n",
       "      <td>1</td>\n",
       "      <td>579084</td>\n",
       "      <td>0.920548</td>\n",
       "      <td>336</td>\n",
       "      <td>1723.4600</td>\n",
       "      <td>5</td>\n",
       "      <td>CA</td>\n",
       "      <td>0</td>\n",
       "    </tr>\n",
       "    <tr>\n",
       "      <th>3</th>\n",
       "      <td>F</td>\n",
       "      <td>24</td>\n",
       "      <td>2</td>\n",
       "      <td>112099</td>\n",
       "      <td>2438218</td>\n",
       "      <td>4</td>\n",
       "      <td>1</td>\n",
       "      <td>470964</td>\n",
       "      <td>0.994521</td>\n",
       "      <td>363</td>\n",
       "      <td>1297.4199</td>\n",
       "      <td>2</td>\n",
       "      <td>WA</td>\n",
       "      <td>0</td>\n",
       "    </tr>\n",
       "    <tr>\n",
       "      <th>4</th>\n",
       "      <td>F</td>\n",
       "      <td>67</td>\n",
       "      <td>5</td>\n",
       "      <td>84638</td>\n",
       "      <td>2428245</td>\n",
       "      <td>3</td>\n",
       "      <td>0</td>\n",
       "      <td>446615</td>\n",
       "      <td>0.917808</td>\n",
       "      <td>335</td>\n",
       "      <td>1333.1799</td>\n",
       "      <td>3</td>\n",
       "      <td>CT</td>\n",
       "      <td>0</td>\n",
       "    </tr>\n",
       "  </tbody>\n",
       "</table>\n",
       "</div>"
      ],
      "text/plain": [
       "  SEX  AGE  EDUCATION  INVESTMENT   INCOME  ACTIVITY  CHURN  YRLY_AMT  \\\n",
       "0   F   84          2      114368  3852862         5      0    700259   \n",
       "1   F   44          2       90298  3849843         1      0    726977   \n",
       "2   F   23          2       94881  3217364         1      1    579084   \n",
       "3   F   24          2      112099  2438218         4      1    470964   \n",
       "4   F   67          5       84638  2428245         3      0    446615   \n",
       "\n",
       "   AVG_DAILY_TX  YRLY_TX  AVG_TX_AMT  NEGTWEETS STATE  SEX_CODE  \n",
       "0      0.917808      335   2090.3200          3    TX         0  \n",
       "1      0.950685      347   2095.0400          2    CA         0  \n",
       "2      0.920548      336   1723.4600          5    CA         0  \n",
       "3      0.994521      363   1297.4199          2    WA         0  \n",
       "4      0.917808      335   1333.1799          3    CT         0  "
      ]
     },
     "execution_count": 18,
     "metadata": {},
     "output_type": "execute_result"
    }
   ],
   "source": [
    "df_data_1['SEX_CODE'] = df_data_1['SEX'].map(international_plan_mapping).astype(int)\n",
    "df_data_1.head()"
   ]
  },
  {
   "cell_type": "markdown",
   "metadata": {},
   "source": [
    "Perform the same process to transform other string variables to a number representation:"
   ]
  },
  {
   "cell_type": "code",
   "execution_count": 19,
   "metadata": {},
   "outputs": [
    {
     "data": {
      "text/html": [
       "<div>\n",
       "<table border=\"1\" class=\"dataframe\">\n",
       "  <thead>\n",
       "    <tr style=\"text-align: right;\">\n",
       "      <th></th>\n",
       "      <th>SEX</th>\n",
       "      <th>AGE</th>\n",
       "      <th>EDUCATION</th>\n",
       "      <th>INVESTMENT</th>\n",
       "      <th>INCOME</th>\n",
       "      <th>ACTIVITY</th>\n",
       "      <th>CHURN</th>\n",
       "      <th>YRLY_AMT</th>\n",
       "      <th>AVG_DAILY_TX</th>\n",
       "      <th>YRLY_TX</th>\n",
       "      <th>AVG_TX_AMT</th>\n",
       "      <th>NEGTWEETS</th>\n",
       "      <th>STATE</th>\n",
       "      <th>SEX_CODE</th>\n",
       "      <th>STATE_CODE</th>\n",
       "    </tr>\n",
       "  </thead>\n",
       "  <tbody>\n",
       "    <tr>\n",
       "      <th>0</th>\n",
       "      <td>F</td>\n",
       "      <td>84</td>\n",
       "      <td>2</td>\n",
       "      <td>114368</td>\n",
       "      <td>3852862</td>\n",
       "      <td>5</td>\n",
       "      <td>0</td>\n",
       "      <td>700259</td>\n",
       "      <td>0.917808</td>\n",
       "      <td>335</td>\n",
       "      <td>2090.3200</td>\n",
       "      <td>3</td>\n",
       "      <td>TX</td>\n",
       "      <td>0</td>\n",
       "      <td>42</td>\n",
       "    </tr>\n",
       "    <tr>\n",
       "      <th>1</th>\n",
       "      <td>F</td>\n",
       "      <td>44</td>\n",
       "      <td>2</td>\n",
       "      <td>90298</td>\n",
       "      <td>3849843</td>\n",
       "      <td>1</td>\n",
       "      <td>0</td>\n",
       "      <td>726977</td>\n",
       "      <td>0.950685</td>\n",
       "      <td>347</td>\n",
       "      <td>2095.0400</td>\n",
       "      <td>2</td>\n",
       "      <td>CA</td>\n",
       "      <td>0</td>\n",
       "      <td>4</td>\n",
       "    </tr>\n",
       "    <tr>\n",
       "      <th>2</th>\n",
       "      <td>F</td>\n",
       "      <td>23</td>\n",
       "      <td>2</td>\n",
       "      <td>94881</td>\n",
       "      <td>3217364</td>\n",
       "      <td>1</td>\n",
       "      <td>1</td>\n",
       "      <td>579084</td>\n",
       "      <td>0.920548</td>\n",
       "      <td>336</td>\n",
       "      <td>1723.4600</td>\n",
       "      <td>5</td>\n",
       "      <td>CA</td>\n",
       "      <td>0</td>\n",
       "      <td>4</td>\n",
       "    </tr>\n",
       "    <tr>\n",
       "      <th>3</th>\n",
       "      <td>F</td>\n",
       "      <td>24</td>\n",
       "      <td>2</td>\n",
       "      <td>112099</td>\n",
       "      <td>2438218</td>\n",
       "      <td>4</td>\n",
       "      <td>1</td>\n",
       "      <td>470964</td>\n",
       "      <td>0.994521</td>\n",
       "      <td>363</td>\n",
       "      <td>1297.4199</td>\n",
       "      <td>2</td>\n",
       "      <td>WA</td>\n",
       "      <td>0</td>\n",
       "      <td>46</td>\n",
       "    </tr>\n",
       "    <tr>\n",
       "      <th>4</th>\n",
       "      <td>F</td>\n",
       "      <td>67</td>\n",
       "      <td>5</td>\n",
       "      <td>84638</td>\n",
       "      <td>2428245</td>\n",
       "      <td>3</td>\n",
       "      <td>0</td>\n",
       "      <td>446615</td>\n",
       "      <td>0.917808</td>\n",
       "      <td>335</td>\n",
       "      <td>1333.1799</td>\n",
       "      <td>3</td>\n",
       "      <td>CT</td>\n",
       "      <td>0</td>\n",
       "      <td>6</td>\n",
       "    </tr>\n",
       "  </tbody>\n",
       "</table>\n",
       "</div>"
      ],
      "text/plain": [
       "  SEX  AGE  EDUCATION  INVESTMENT   INCOME  ACTIVITY  CHURN  YRLY_AMT  \\\n",
       "0   F   84          2      114368  3852862         5      0    700259   \n",
       "1   F   44          2       90298  3849843         1      0    726977   \n",
       "2   F   23          2       94881  3217364         1      1    579084   \n",
       "3   F   24          2      112099  2438218         4      1    470964   \n",
       "4   F   67          5       84638  2428245         3      0    446615   \n",
       "\n",
       "   AVG_DAILY_TX  YRLY_TX  AVG_TX_AMT  NEGTWEETS STATE  SEX_CODE  STATE_CODE  \n",
       "0      0.917808      335   2090.3200          3    TX         0          42  \n",
       "1      0.950685      347   2095.0400          2    CA         0           4  \n",
       "2      0.920548      336   1723.4600          5    CA         0           4  \n",
       "3      0.994521      363   1297.4199          2    WA         0          46  \n",
       "4      0.917808      335   1333.1799          3    CT         0           6  "
      ]
     },
     "execution_count": 19,
     "metadata": {},
     "output_type": "execute_result"
    }
   ],
   "source": [
    "state_values = sorted(df_data_1['STATE'].unique())\n",
    "state_mapping = dict(zip(state_values, range(0, len(state_values) + 1)))\n",
    "\n",
    "df_data_1['STATE_CODE'] = df_data_1['STATE'].map(state_mapping).astype(int)\n",
    "df_data_1.head()"
   ]
  },
  {
   "cell_type": "markdown",
   "metadata": {},
   "source": [
    "Transfrom the target variable from a string to a number representation as well:"
   ]
  },
  {
   "cell_type": "markdown",
   "metadata": {},
   "source": [
    "Drop the following columns:\n",
    "- The \"International plan\" since we will use \"international_plan\"\n",
    "- The \"Voice mail plan\" since we will use \"voice_mail_plan\"\n",
    "- The \"State\" since we will use \"state\"\n",
    "- The \"Churn\" sincd we will use \"churn\""
   ]
  },
  {
   "cell_type": "code",
   "execution_count": 20,
   "metadata": {},
   "outputs": [
    {
     "data": {
      "text/html": [
       "<div>\n",
       "<table border=\"1\" class=\"dataframe\">\n",
       "  <thead>\n",
       "    <tr style=\"text-align: right;\">\n",
       "      <th></th>\n",
       "      <th>AGE</th>\n",
       "      <th>EDUCATION</th>\n",
       "      <th>INVESTMENT</th>\n",
       "      <th>INCOME</th>\n",
       "      <th>ACTIVITY</th>\n",
       "      <th>CHURN</th>\n",
       "      <th>YRLY_AMT</th>\n",
       "      <th>AVG_DAILY_TX</th>\n",
       "      <th>YRLY_TX</th>\n",
       "      <th>AVG_TX_AMT</th>\n",
       "      <th>NEGTWEETS</th>\n",
       "      <th>SEX_CODE</th>\n",
       "      <th>STATE_CODE</th>\n",
       "    </tr>\n",
       "  </thead>\n",
       "  <tbody>\n",
       "    <tr>\n",
       "      <th>0</th>\n",
       "      <td>84</td>\n",
       "      <td>2</td>\n",
       "      <td>114368</td>\n",
       "      <td>3852862</td>\n",
       "      <td>5</td>\n",
       "      <td>0</td>\n",
       "      <td>700259</td>\n",
       "      <td>0.917808</td>\n",
       "      <td>335</td>\n",
       "      <td>2090.3200</td>\n",
       "      <td>3</td>\n",
       "      <td>0</td>\n",
       "      <td>42</td>\n",
       "    </tr>\n",
       "    <tr>\n",
       "      <th>1</th>\n",
       "      <td>44</td>\n",
       "      <td>2</td>\n",
       "      <td>90298</td>\n",
       "      <td>3849843</td>\n",
       "      <td>1</td>\n",
       "      <td>0</td>\n",
       "      <td>726977</td>\n",
       "      <td>0.950685</td>\n",
       "      <td>347</td>\n",
       "      <td>2095.0400</td>\n",
       "      <td>2</td>\n",
       "      <td>0</td>\n",
       "      <td>4</td>\n",
       "    </tr>\n",
       "    <tr>\n",
       "      <th>2</th>\n",
       "      <td>23</td>\n",
       "      <td>2</td>\n",
       "      <td>94881</td>\n",
       "      <td>3217364</td>\n",
       "      <td>1</td>\n",
       "      <td>1</td>\n",
       "      <td>579084</td>\n",
       "      <td>0.920548</td>\n",
       "      <td>336</td>\n",
       "      <td>1723.4600</td>\n",
       "      <td>5</td>\n",
       "      <td>0</td>\n",
       "      <td>4</td>\n",
       "    </tr>\n",
       "    <tr>\n",
       "      <th>3</th>\n",
       "      <td>24</td>\n",
       "      <td>2</td>\n",
       "      <td>112099</td>\n",
       "      <td>2438218</td>\n",
       "      <td>4</td>\n",
       "      <td>1</td>\n",
       "      <td>470964</td>\n",
       "      <td>0.994521</td>\n",
       "      <td>363</td>\n",
       "      <td>1297.4199</td>\n",
       "      <td>2</td>\n",
       "      <td>0</td>\n",
       "      <td>46</td>\n",
       "    </tr>\n",
       "    <tr>\n",
       "      <th>4</th>\n",
       "      <td>67</td>\n",
       "      <td>5</td>\n",
       "      <td>84638</td>\n",
       "      <td>2428245</td>\n",
       "      <td>3</td>\n",
       "      <td>0</td>\n",
       "      <td>446615</td>\n",
       "      <td>0.917808</td>\n",
       "      <td>335</td>\n",
       "      <td>1333.1799</td>\n",
       "      <td>3</td>\n",
       "      <td>0</td>\n",
       "      <td>6</td>\n",
       "    </tr>\n",
       "  </tbody>\n",
       "</table>\n",
       "</div>"
      ],
      "text/plain": [
       "   AGE  EDUCATION  INVESTMENT   INCOME  ACTIVITY  CHURN  YRLY_AMT  \\\n",
       "0   84          2      114368  3852862         5      0    700259   \n",
       "1   44          2       90298  3849843         1      0    726977   \n",
       "2   23          2       94881  3217364         1      1    579084   \n",
       "3   24          2      112099  2438218         4      1    470964   \n",
       "4   67          5       84638  2428245         3      0    446615   \n",
       "\n",
       "   AVG_DAILY_TX  YRLY_TX  AVG_TX_AMT  NEGTWEETS  SEX_CODE  STATE_CODE  \n",
       "0      0.917808      335   2090.3200          3         0          42  \n",
       "1      0.950685      347   2095.0400          2         0           4  \n",
       "2      0.920548      336   1723.4600          5         0           4  \n",
       "3      0.994521      363   1297.4199          2         0          46  \n",
       "4      0.917808      335   1333.1799          3         0           6  "
      ]
     },
     "execution_count": 20,
     "metadata": {},
     "output_type": "execute_result"
    }
   ],
   "source": [
    "df_data_1 = df_data_1.drop(['SEX',\\\n",
    "                            'STATE'], axis=1)\n",
    "    \n",
    "df_data_1.head()   "
   ]
  },
  {
   "cell_type": "markdown",
   "metadata": {
    "collapsed": true
   },
   "source": [
    "Let's take a last look of the data:"
   ]
  },
  {
   "cell_type": "code",
   "execution_count": 21,
   "metadata": {},
   "outputs": [],
   "source": [
    "df_data_1 = df_data_1[['AGE','EDUCATION','INVESTMENT','INCOME','ACTIVITY','YRLY_AMT','AVG_DAILY_TX','YRLY_TX','AVG_TX_AMT','NEGTWEETS','SEX_CODE','STATE_CODE','CHURN']]\n",
    "                      "
   ]
  },
  {
   "cell_type": "code",
   "execution_count": 22,
   "metadata": {},
   "outputs": [
    {
     "name": "stdout",
     "output_type": "stream",
     "text": [
      "<class 'pandas.core.frame.DataFrame'>\n",
      "Int64Index: 6001 entries, 0 to 6000\n",
      "Data columns (total 13 columns):\n",
      "AGE             6001 non-null int64\n",
      "EDUCATION       6001 non-null int64\n",
      "INVESTMENT      6001 non-null int64\n",
      "INCOME          6001 non-null int64\n",
      "ACTIVITY        6001 non-null int64\n",
      "YRLY_AMT        6001 non-null float64\n",
      "AVG_DAILY_TX    6001 non-null float64\n",
      "YRLY_TX         6001 non-null int64\n",
      "AVG_TX_AMT      6001 non-null float64\n",
      "NEGTWEETS       6001 non-null int64\n",
      "SEX_CODE        6001 non-null int64\n",
      "STATE_CODE      6001 non-null int64\n",
      "CHURN           6001 non-null int64\n",
      "dtypes: float64(3), int64(10)\n",
      "memory usage: 656.4 KB\n"
     ]
    }
   ],
   "source": [
    "df_data_1.info()"
   ]
  },
  {
   "cell_type": "markdown",
   "metadata": {},
   "source": [
    "## 4. Model training"
   ]
  },
  {
   "cell_type": "markdown",
   "metadata": {},
   "source": [
    "### Splitting the data into Training and Test Data\n",
    "\n",
    "The fundamental goal of ML is to generalize beyond the data instances used to train models. We want to evaluate the model to estimate the quality of its pattern generalization for data the model has not been trained on.\n",
    "\n",
    "A common strategy is to take all available labeled data, and split it into training and test subsets, usually with a ratio of 70-80 percent for training and 20-30 percent for evaluation. The ML system uses the training data to train models to see patterns, and uses the test data to evaluate the predictive quality of the trained model. "
   ]
  },
  {
   "cell_type": "code",
   "execution_count": 23,
   "metadata": {},
   "outputs": [],
   "source": [
    "from sklearn.model_selection import train_test_split\n",
    "\n",
    "# construct the dataset for neural network\n",
    "training_set, test_set = train_test_split(df_data_1, test_size=0.2, random_state=48)\n",
    "\n",
    "# construct the dataset for general machine learning methods\n",
    "X_train = training_set.iloc[:,:-1]\n",
    "y_train = training_set.iloc[:,-1]\n",
    "X_test = test_set.iloc[:,:-1]\n",
    "y_test = test_set.iloc[:,-1]"
   ]
  },
  {
   "cell_type": "markdown",
   "metadata": {
    "collapsed": true
   },
   "source": [
    "### Logistc Regression"
   ]
  },
  {
   "cell_type": "code",
   "execution_count": 24,
   "metadata": {},
   "outputs": [],
   "source": [
    "from sklearn.linear_model import LogisticRegression\n",
    "\n",
    "clf_lr = LogisticRegression()\n",
    "\n",
    "# Fit the training data and create the model\n",
    "clf_lr = clf_lr.fit(X_train, y_train)"
   ]
  },
  {
   "cell_type": "markdown",
   "metadata": {},
   "source": [
    "### Random Forest"
   ]
  },
  {
   "cell_type": "code",
   "execution_count": 25,
   "metadata": {},
   "outputs": [],
   "source": [
    "from sklearn.ensemble import RandomForestClassifier\n",
    "\n",
    "clf_rf = RandomForestClassifier(n_estimators=15)\n",
    "\n",
    "# Fit the training data\n",
    "clf_rf = clf_rf.fit(X_train, y_train)"
   ]
  },
  {
   "cell_type": "markdown",
   "metadata": {
    "collapsed": true
   },
   "source": [
    "### Deep Neural Network"
   ]
  },
  {
   "cell_type": "markdown",
   "metadata": {},
   "source": [
    "We are building a deep neural network model to predict the probability of default. We put the previously cleaned and transformed dataset into Tensorflow's DNN classifier to train a predictor."
   ]
  },
  {
   "cell_type": "markdown",
   "metadata": {},
   "source": [
    "#### Prepare required function\n",
    "\n",
    "Deep neural network model in TensorFlow needs the input_fn to parse feature and label data to the classifier. Meanwhile, the model directory needs to be cleaned to prevent potential errors."
   ]
  },
  {
   "cell_type": "code",
   "execution_count": 26,
   "metadata": {},
   "outputs": [],
   "source": [
    "# Turn off the warning output\n",
    "tf.logging.set_verbosity(tf.logging.ERROR)\n",
    "\n",
    "# Define the column names of features and the label.\n",
    "feature_name = training_set.columns[:-1]\n",
    "label_name = training_set.columns[-1]\n",
    "\n",
    "# Make sure all features have real-valued data\n",
    "feature_columns = [tf.contrib.layers.real_valued_column(k) for k in feature_name]\n",
    "\n",
    "#The input_fn is used to pass feature and target data to the train, evaluate, and predict methods of the Estimator. \n",
    "# The user can do feature engineering or pre-processing inside the input_fn. \n",
    "def input_fn(df):\n",
    "    \"\"\"extract feature and label for DNN model.\n",
    "    \"\"\"\n",
    "    feature_cols = {k: tf.constant(df[k].values) for k in feature_name}\n",
    "    labels = tf.constant(df[label_name].values)\n",
    "    return feature_cols, labels\n",
    "\n",
    "def clean_dir(model_dir):\n",
    "    \"\"\"clean up the model dir\n",
    "    \"\"\"\n",
    "    files = [os.path.join(model_dir, f) for f in os.listdir(model_dir)]\n",
    "    for f in files:\n",
    "        os.remove(f)"
   ]
  },
  {
   "cell_type": "markdown",
   "metadata": {},
   "source": [
    "#### Define model & train\n",
    "\n",
    "First of all, clean up the model directory if there are already training files. Then define the deep learning classifier with specific parameter numbers and train with training set."
   ]
  },
  {
   "cell_type": "code",
   "execution_count": 27,
   "metadata": {},
   "outputs": [
    {
     "data": {
      "text/plain": [
       "DNNClassifier(params={'head': <tensorflow.contrib.learn.python.learn.estimators.head._BinaryLogisticHead object at 0x7f98a3cc2090>, 'hidden_units': [30, 80, 20], 'feature_columns': (_RealValuedColumn(column_name='AGE', dimension=1, default_value=None, dtype=tf.float32, normalizer=None), _RealValuedColumn(column_name='EDUCATION', dimension=1, default_value=None, dtype=tf.float32, normalizer=None), _RealValuedColumn(column_name='INVESTMENT', dimension=1, default_value=None, dtype=tf.float32, normalizer=None), _RealValuedColumn(column_name='INCOME', dimension=1, default_value=None, dtype=tf.float32, normalizer=None), _RealValuedColumn(column_name='ACTIVITY', dimension=1, default_value=None, dtype=tf.float32, normalizer=None), _RealValuedColumn(column_name='YRLY_AMT', dimension=1, default_value=None, dtype=tf.float32, normalizer=None), _RealValuedColumn(column_name='AVG_DAILY_TX', dimension=1, default_value=None, dtype=tf.float32, normalizer=None), _RealValuedColumn(column_name='YRLY_TX', dimension=1, default_value=None, dtype=tf.float32, normalizer=None), _RealValuedColumn(column_name='AVG_TX_AMT', dimension=1, default_value=None, dtype=tf.float32, normalizer=None), _RealValuedColumn(column_name='NEGTWEETS', dimension=1, default_value=None, dtype=tf.float32, normalizer=None), _RealValuedColumn(column_name='SEX_CODE', dimension=1, default_value=None, dtype=tf.float32, normalizer=None), _RealValuedColumn(column_name='STATE_CODE', dimension=1, default_value=None, dtype=tf.float32, normalizer=None)), 'embedding_lr_multipliers': None, 'optimizer': None, 'dropout': None, 'gradient_clip_norm': None, 'activation_fn': <function relu at 0x7f98db613c08>, 'input_layer_min_slice_size': None})"
      ]
     },
     "execution_count": 27,
     "metadata": {},
     "output_type": "execute_result"
    }
   ],
   "source": [
    "# clean up the log file and checkpoint of the last time result\n",
    "if os.path.exists('assets/model'):\n",
    "    clean_dir('assets/model')\n",
    "\n",
    "# define the structure and parameters\n",
    "# Build 3 layer DNN with the numbers of units respectively.\n",
    "clf_dnn = tf.contrib.learn.DNNClassifier(feature_columns=feature_columns,\n",
    "                                         hidden_units=[30, 80, 20],\n",
    "                                         n_classes=2,\n",
    "                                         model_dir=\"assets/model/\")\n",
    "\n",
    "# train model\n",
    "clf_dnn.fit(input_fn=lambda: input_fn(training_set), steps=3000)"
   ]
  },
  {
   "cell_type": "markdown",
   "metadata": {},
   "source": [
    "## 5. Model evaluation"
   ]
  },
  {
   "cell_type": "markdown",
   "metadata": {},
   "source": [
    "Evaluate and compare the performances of logistic regression, random forest and deep neural network."
   ]
  },
  {
   "cell_type": "code",
   "execution_count": 28,
   "metadata": {},
   "outputs": [
    {
     "data": {
      "image/png": "[encoded data removed]",
      "text/plain": [
       "<matplotlib.figure.Figure at 0x7f98d74e7e10>"
      ]
     },
     "metadata": {},
     "output_type": "display_data"
    }
   ],
   "source": [
    "from sklearn.metrics import roc_curve, auc \n",
    "\n",
    "# Logistic Regression\n",
    "prob_lr = pd.DataFrame(list(clf_lr.predict_proba(X_test)))\n",
    "fpr_lr, tpr_lr, thresholds_lr = roc_curve(y_test, prob_lr.iloc[:,1])\n",
    "roc_auc_lr = auc(fpr_lr, tpr_lr)\n",
    "\n",
    "# Random Forest\n",
    "prob_rf = pd.DataFrame(list(clf_rf.predict_proba(X_test)))\n",
    "fpr_rf, tpr_rf, thresholds_rf = roc_curve(y_test, prob_rf.iloc[:,1])\n",
    "roc_auc_rf = auc(fpr_rf, tpr_rf)\n",
    "\n",
    "# Deep Neural Network\n",
    "prob_dnn = pd.DataFrame(list(clf_dnn.predict_proba(input_fn=lambda:input_fn(test_set))))\n",
    "fpr_dnn, tpr_dnn, thresholds_dnn = roc_curve(y_test, prob_dnn.iloc[:,1])\n",
    "roc_auc_dnn = auc(fpr_dnn, tpr_dnn)\n",
    "\n",
    "\n",
    "plt.plot(fpr_lr, tpr_lr, lw=1, label='LR = %0.2f'%roc_auc_lr)\n",
    "plt.plot(fpr_rf, tpr_rf, lw=1, label='RF = %0.2f'%roc_auc_rf)\n",
    "plt.plot(fpr_dnn, tpr_dnn, lw=1, label='DNN = %0.2f'%roc_auc_dnn)\n",
    "\n",
    "plt.xlabel('FPR')\n",
    "plt.ylabel('TPR')\n",
    "plt.legend()\n",
    "\n",
    "plt.show()\n"
   ]
  },
  {
   "cell_type": "markdown",
   "metadata": {},
   "source": [
    "#### Accuracy"
   ]
  },
  {
   "cell_type": "code",
   "execution_count": 29,
   "metadata": {},
   "outputs": [
    {
     "name": "stdout",
     "output_type": "stream",
     "text": [
      "LR:0.966694421316\n",
      "RF:0.975020815987\n",
      "DNN:0\n",
      "\n"
     ]
    }
   ],
   "source": [
    "# calculate accuracy for logistic regression\n",
    "score_lr = clf_lr.score(X_test, y_test)\n",
    "\n",
    "# calculate accuracy for random forest\n",
    "score_rf = clf_rf.score(X_test, y_test)\n",
    "\n",
    "# calculate accuracy for neural network\n",
    "res_dnn = list(clf_dnn.predict(input_fn=lambda:input_fn(test_set)))\n",
    "score_dnn = np.sum([x == y for x,y in zip(res_dnn, y_test)]) / len(res_dnn)\n",
    "\n",
    "print(\"LR:%s\\nRF:%s\\nDNN:%s\\n\" % (score_lr, score_rf, score_dnn))"
   ]
  },
  {
   "cell_type": "markdown",
   "metadata": {},
   "source": [
    "#### Confusion matrix"
   ]
  },
  {
   "cell_type": "markdown",
   "metadata": {},
   "source": [
    "Random Forest performs the best. Let's view the Confusion Matrix:"
   ]
  },
  {
   "cell_type": "markdown",
   "metadata": {},
   "source": [
    "|      | condition True | condition false|\n",
    "|------|----------------|---------------|\n",
    "|prediction true|True Positive|False positive|\n",
    "|Prediction False|False Negative|True Negative|"
   ]
  },
  {
   "cell_type": "markdown",
   "metadata": {},
   "source": [
    "Get the model score and confusion matrix:"
   ]
  },
  {
   "cell_type": "code",
   "execution_count": 30,
   "metadata": {},
   "outputs": [
    {
     "name": "stdout",
     "output_type": "stream",
     "text": [
      "Model Score 0.98 \n",
      "\n",
      "          Predicted\n",
      "         |  0  |  1  |\n",
      "         |-----|-----|\n",
      "       0 | 873 |   7 |\n",
      "Actual   |-----|-----|\n",
      "       1 |  23 | 298 |\n",
      "         |-----|-----|\n"
     ]
    }
   ],
   "source": [
    "from sklearn import metrics\n",
    "\n",
    "y_predict = clf_rf.predict(X_test)\n",
    "\n",
    "print (\"Model Score %.2f \\n\" % (score_rf))\n",
    "\n",
    "confusion_matrix = metrics.confusion_matrix(y_test, y_predict)\n",
    "#print (\"Confusion Matrix \", confusion_matrix)\n",
    "\n",
    "print (\"          Predicted\")\n",
    "print (\"         |  0  |  1  |\")\n",
    "print (\"         |-----|-----|\")\n",
    "print (\"       0 | %3d | %3d |\" % (confusion_matrix[0, 0],\n",
    "                                   confusion_matrix[0, 1]))\n",
    "print (\"Actual   |-----|-----|\")\n",
    "print (\"       1 | %3d | %3d |\" % (confusion_matrix[1, 0],\n",
    "                                   confusion_matrix[1, 1]))\n",
    "print (\"         |-----|-----|\")"
   ]
  },
  {
   "cell_type": "markdown",
   "metadata": {},
   "source": [
    "## 6. Model application\n",
    "\n",
    "Make prediction on new data"
   ]
  },
  {
   "cell_type": "code",
   "execution_count": 31,
   "metadata": {},
   "outputs": [
    {
     "data": {
      "text/html": [
       "<div>\n",
       "<table border=\"1\" class=\"dataframe\">\n",
       "  <thead>\n",
       "    <tr style=\"text-align: right;\">\n",
       "      <th></th>\n",
       "      <th>AGE</th>\n",
       "      <th>EDUCATION</th>\n",
       "      <th>INVESTMENT</th>\n",
       "      <th>INCOME</th>\n",
       "      <th>ACTIVITY</th>\n",
       "      <th>YRLY_AMT</th>\n",
       "      <th>AVG_DAILY_TX</th>\n",
       "      <th>YRLY_TX</th>\n",
       "      <th>AVG_TX_AMT</th>\n",
       "      <th>NEGTWEETS</th>\n",
       "      <th>SEX_CODE</th>\n",
       "      <th>STATE_CODE</th>\n",
       "      <th>CHURN</th>\n",
       "    </tr>\n",
       "  </thead>\n",
       "  <tbody>\n",
       "    <tr>\n",
       "      <th>3929</th>\n",
       "      <td>75</td>\n",
       "      <td>4</td>\n",
       "      <td>0</td>\n",
       "      <td>18283</td>\n",
       "      <td>2</td>\n",
       "      <td>8034.379</td>\n",
       "      <td>0.665753</td>\n",
       "      <td>243</td>\n",
       "      <td>33.063293</td>\n",
       "      <td>2</td>\n",
       "      <td>1</td>\n",
       "      <td>42</td>\n",
       "      <td>0</td>\n",
       "    </tr>\n",
       "    <tr>\n",
       "      <th>1467</th>\n",
       "      <td>31</td>\n",
       "      <td>1</td>\n",
       "      <td>0</td>\n",
       "      <td>30139</td>\n",
       "      <td>0</td>\n",
       "      <td>12174.699</td>\n",
       "      <td>0.665753</td>\n",
       "      <td>243</td>\n",
       "      <td>50.101395</td>\n",
       "      <td>7</td>\n",
       "      <td>1</td>\n",
       "      <td>37</td>\n",
       "      <td>1</td>\n",
       "    </tr>\n",
       "  </tbody>\n",
       "</table>\n",
       "</div>"
      ],
      "text/plain": [
       "      AGE  EDUCATION  INVESTMENT  INCOME  ACTIVITY   YRLY_AMT  AVG_DAILY_TX  \\\n",
       "3929   75          4           0   18283         2   8034.379      0.665753   \n",
       "1467   31          1           0   30139         0  12174.699      0.665753   \n",
       "\n",
       "      YRLY_TX  AVG_TX_AMT  NEGTWEETS  SEX_CODE  STATE_CODE  CHURN  \n",
       "3929      243   33.063293          2         1          42      0  \n",
       "1467      243   50.101395          7         1          37      1  "
      ]
     },
     "execution_count": 31,
     "metadata": {},
     "output_type": "execute_result"
    }
   ],
   "source": [
    "sample = test_set.iloc[30:32]\n",
    "sample.head()"
   ]
  },
  {
   "cell_type": "code",
   "execution_count": 32,
   "metadata": {},
   "outputs": [
    {
     "name": "stdout",
     "output_type": "stream",
     "text": [
      "The prediction is: [0, 0]\n",
      "The truth is: [0, 1]\n"
     ]
    }
   ],
   "source": [
    "res_dnn = list(clf_dnn.predict(input_fn=lambda:input_fn(sample)))\n",
    "\n",
    "print(\"The prediction is: %s\\nThe truth is: %s\" % (res_dnn, list(sample['CHURN'])))"
   ]
  },
  {
   "cell_type": "code",
   "execution_count": 33,
   "metadata": {},
   "outputs": [
    {
     "name": "stdout",
     "output_type": "stream",
     "text": [
      "The prediction is: [0 1]\n",
      "The truth is: [0, 1]\n"
     ]
    }
   ],
   "source": [
    "X_sample = sample.drop('CHURN', axis=1)\n",
    "y_sample = sample[['CHURN']]\n",
    "\n",
    "res_rf = clf_rf.predict(X_sample)\n",
    "print(\"The prediction is: %s\\nThe truth is: %s\" % (res_rf, list(y_sample['CHURN'])))"
   ]
  },
  {
   "cell_type": "markdown",
   "metadata": {},
   "source": [
    "## Next steps"
   ]
  },
  {
   "cell_type": "markdown",
   "metadata": {},
   "source": [
    "You successfully completed this notebook. You learned how to use various machine learning technologies for data acquisition, data exploration and preparation, model training and model evaluation. You will explore how to \n",
    "\n",
    "- store the model to a repository for version control\n",
    "- deploy the model as a web service\n",
    "- continuously monitor the performance of your model\n",
    "- retrain the model\n"
   ]
  }
 ],
 "metadata": {
  "kernelspec": {
   "display_name": "Python 2 with Spark 2.1",
   "language": "python",
   "name": "python2-spark21"
  },
  "language_info": {
   "codemirror_mode": {
    "name": "ipython",
    "version": 2
   },
   "file_extension": ".py",
   "mimetype": "text/x-python",
   "name": "python",
   "nbconvert_exporter": "python",
   "pygments_lexer": "ipython2",
   "version": "2.7.11"
  }
 },
 "nbformat": 4,
 "nbformat_minor": 1
}
