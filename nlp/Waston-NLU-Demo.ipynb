{
 "cells": [
  {
   "cell_type": "markdown",
   "metadata": {},
   "source": [
    "![alt text](https://github.com/SrStone/BlueMixJar/blob/master/ML_Hub_Logo.png?raw=true)"
   ]
  },
  {
   "cell_type": "markdown",
   "metadata": {},
   "source": [
    "# IBM Watson Natural Language Understanding (NLU) \n",
    "\n",
    "## Introduction\n",
    "\n",
    "IBM Watson Natural Language Understanding(NLU) uses natural language processing to analyze semantic features of any text. Provide plain text, HTML, or a public URL, and NLU returns results for the features you specify. The following language analysis can be performed:\n",
    "\n",
    "- **Concepts**: Identify general concepts that are referenced or alluded to in your content. Concepts that are detected typically have an associated link to a DBpedia resource.\n",
    "- **Entities**: Detect important people, places, geopolitical entities and other types of entities in your content. Entity detection recognizes consecutive coreferences of each entity. \n",
    "- **Keywords**: Determine the most important keywords in your content. Keyword phrases are organized by relevance in the results.\n",
    "- **Categories**: Categorize your content into a hierarchical 5-level taxonomy. For example, \"Leonardo DiCaprio won an Oscar\" returns \"/art and entertainment/movies and tv/movies\" as the most confident classification.\n",
    "- **Sentiment**: Determine whether your content conveys postive or negative sentiment. Sentiment information can be returned for detected entities, keywords, or user-specified target phrases found in the text.\n",
    "- **Emotion**: Detect anger, disgust, fear, joy, or sadness that is conveyed by your content. Emotion information can be returned for detected entities, keywords, or user-specified target phrases found in the text.\n",
    "- **Relations**: Recognize when two entities are related, and identify the type of relation. For example, you can identify an \"awardedTo\" relation between an award and its recipient.\n",
    "- **Semantic Role**: sParse sentences into subject-action-object form, and identify entities and keywords that are subjects or objects of an action.\n",
    "- **Metadata**: Get author information, publication date, and the title of your text/HTML content.\n",
    "\n",
    "Refer to the [Online API Doc](https://www.ibm.com/watson/developercloud/natural-language-understanding/api/v1/?curl#get-analyze\n",
    ") for the detailed API and how to use them. \n",
    "\n",
    "\n",
    "-----------------------\n",
    "### Preparation \n",
    "\n",
    "1) Create a NLU service instance in Bluemix [Log in and create the service](https://www.ibm.com/watson/developercloud/doc/natural-language-understanding/getting-started.html)\n",
    "\n",
    "2) Obtain the NLU service credentials (username, password, version) from Bluemix dashboard\n",
    "\n",
    "2) To use this service in Python notebook, install the client library by running this command in the notebook:\n",
    "\n",
    "`!pip install --upgrade watson_developer_cloud`\n",
    "\n"
   ]
  },
  {
   "cell_type": "code",
   "execution_count": 4,
   "metadata": {},
   "outputs": [
    {
     "name": "stdout",
     "output_type": "stream",
     "text": [
      "Requirement already up-to-date: watson_developer_cloud in /gpfs/global_fs01/sym_shared/YS1Prod/user/s3f8-8f0f0b99f11709-9d303a809961/.local/lib/python2.7/site-packages\n",
      "Requirement already up-to-date: pyOpenSSL>=16.2.0 in /gpfs/global_fs01/sym_shared/YS1Prod/user/s3f8-8f0f0b99f11709-9d303a809961/.local/lib/python2.7/site-packages (from watson_developer_cloud)\n",
      "Requirement already up-to-date: requests<3.0,>=2.0 in /usr/local/src/bluemix_jupyter_bundle.v75/notebook/lib/python2.7/site-packages (from watson_developer_cloud)\n",
      "Requirement already up-to-date: pysolr<4.0,>=3.3 in /gpfs/global_fs01/sym_shared/YS1Prod/user/s3f8-8f0f0b99f11709-9d303a809961/.local/lib/python2.7/site-packages (from watson_developer_cloud)\n",
      "Requirement already up-to-date: cryptography>=1.9 in /gpfs/global_fs01/sym_shared/YS1Prod/user/s3f8-8f0f0b99f11709-9d303a809961/.local/lib/python2.7/site-packages (from pyOpenSSL>=16.2.0->watson_developer_cloud)\n",
      "Requirement already up-to-date: six>=1.5.2 in /gpfs/global_fs01/sym_shared/YS1Prod/user/s3f8-8f0f0b99f11709-9d303a809961/.local/lib/python2.7/site-packages (from pyOpenSSL>=16.2.0->watson_developer_cloud)\n",
      "Requirement already up-to-date: urllib3<1.23,>=1.21.1 in /usr/local/src/bluemix_jupyter_bundle.v75/notebook/lib/python2.7/site-packages (from requests<3.0,>=2.0->watson_developer_cloud)\n",
      "Requirement already up-to-date: idna<2.7,>=2.5 in /usr/local/src/bluemix_jupyter_bundle.v75/notebook/lib/python2.7/site-packages (from requests<3.0,>=2.0->watson_developer_cloud)\n",
      "Requirement already up-to-date: chardet<3.1.0,>=3.0.2 in /gpfs/global_fs01/sym_shared/YS1Prod/user/s3f8-8f0f0b99f11709-9d303a809961/.local/lib/python2.7/site-packages (from requests<3.0,>=2.0->watson_developer_cloud)\n",
      "Requirement already up-to-date: certifi>=2017.4.17 in /usr/local/src/bluemix_jupyter_bundle.v75/notebook/lib/python2.7/site-packages (from requests<3.0,>=2.0->watson_developer_cloud)\n",
      "Requirement already up-to-date: cffi>=1.7; platform_python_implementation != \"PyPy\" in /gpfs/global_fs01/sym_shared/YS1Prod/user/s3f8-8f0f0b99f11709-9d303a809961/.local/lib/python2.7/site-packages (from cryptography>=1.9->pyOpenSSL>=16.2.0->watson_developer_cloud)\n",
      "Requirement already up-to-date: enum34; python_version < \"3\" in /gpfs/global_fs01/sym_shared/YS1Prod/user/s3f8-8f0f0b99f11709-9d303a809961/.local/lib/python2.7/site-packages (from cryptography>=1.9->pyOpenSSL>=16.2.0->watson_developer_cloud)\n",
      "Requirement already up-to-date: asn1crypto>=0.21.0 in /gpfs/global_fs01/sym_shared/YS1Prod/user/s3f8-8f0f0b99f11709-9d303a809961/.local/lib/python2.7/site-packages (from cryptography>=1.9->pyOpenSSL>=16.2.0->watson_developer_cloud)\n",
      "Requirement already up-to-date: ipaddress; python_version < \"3\" in /gpfs/global_fs01/sym_shared/YS1Prod/user/s3f8-8f0f0b99f11709-9d303a809961/.local/lib/python2.7/site-packages (from cryptography>=1.9->pyOpenSSL>=16.2.0->watson_developer_cloud)\n",
      "Requirement already up-to-date: pycparser in /gpfs/global_fs01/sym_shared/YS1Prod/user/s3f8-8f0f0b99f11709-9d303a809961/.local/lib/python2.7/site-packages (from cffi>=1.7; platform_python_implementation != \"PyPy\"->cryptography>=1.9->pyOpenSSL>=16.2.0->watson_developer_cloud)\n"
     ]
    }
   ],
   "source": [
    "!pip install --upgrade watson_developer_cloud"
   ]
  },
  {
   "cell_type": "markdown",
   "metadata": {},
   "source": [
    "### Step 1: Connecting to the service instance\n"
   ]
  },
  {
   "cell_type": "code",
   "execution_count": 5,
   "metadata": {
    "collapsed": true
   },
   "outputs": [],
   "source": [
    "import json\n",
    "from watson_developer_cloud import NaturalLanguageUnderstandingV1\n",
    "import watson_developer_cloud.natural_language_understanding.features.v1 as Features\n",
    "\n",
    "# Replace the username/password here with yours in your credentials\n",
    "natural_language_understanding = NaturalLanguageUnderstandingV1(\n",
    "  username=\"630adbe6-5bd6-460d-b4ee-a783429a3db3\",\n",
    "  password=\"*rgYQISchQnj\",\n",
    "  version=\"2017-02-27\")"
   ]
  },
  {
   "cell_type": "markdown",
   "metadata": {},
   "source": [
    "## Step 2: analyzing semantic features of any text\n"
   ]
  },
  {
   "cell_type": "markdown",
   "metadata": {},
   "source": [
    "**Concepts**: Identify general concepts that are referenced or alluded to in your content. Concepts that are detected typically have an associated link to a DBpedia resource."
   ]
  },
  {
   "cell_type": "code",
   "execution_count": 6,
   "metadata": {},
   "outputs": [
    {
     "name": "stdout",
     "output_type": "stream",
     "text": [
      "{\n",
      "  \"usage\": {\n",
      "    \"text_characters\": 250, \n",
      "    \"features\": 1, \n",
      "    \"text_units\": 1\n",
      "  }, \n",
      "  \"language\": \"en\", \n",
      "  \"concepts\": [\n",
      "    {\n",
      "      \"relevance\": 0.966928, \n",
      "      \"text\": \"Machine learning\", \n",
      "      \"dbpedia_resource\": \"http://dbpedia.org/resource/Machine_learning\"\n",
      "    }, \n",
      "    {\n",
      "      \"relevance\": 0.850526, \n",
      "      \"text\": \"Computer\", \n",
      "      \"dbpedia_resource\": \"http://dbpedia.org/resource/Computer\"\n",
      "    }, \n",
      "    {\n",
      "      \"relevance\": 0.832159, \n",
      "      \"text\": \"Computer program\", \n",
      "      \"dbpedia_resource\": \"http://dbpedia.org/resource/Computer_program\"\n",
      "    }\n",
      "  ]\n",
      "}\n"
     ]
    }
   ],
   "source": [
    "response = natural_language_understanding.analyze(\n",
    "  text=\"Machine learning is a method of data analysis that automates \\\n",
    "  analytical model building.Using algorithms that iteratively learn from\\\n",
    "  data, machine learning allows computers to find hidden insights without\\\n",
    "  being explicitly programmed where to look.\",\n",
    "  features=[\n",
    "    Features.Concepts(\n",
    "      limit=3\n",
    "    )\n",
    "  ]\n",
    ")\n",
    "\n",
    "print(json.dumps(response, indent=2))"
   ]
  },
  {
   "cell_type": "markdown",
   "metadata": {},
   "source": [
    "**Categories**: Categorize your content into a hierarchical 5-level taxonomy. For example, \"Leonardo DiCaprio won an Oscar\" returns \"/art and entertainment/movies and tv/movies\" as the most confident classification."
   ]
  },
  {
   "cell_type": "code",
   "execution_count": 7,
   "metadata": {},
   "outputs": [
    {
     "name": "stdout",
     "output_type": "stream",
     "text": [
      "{\n",
      "  \"usage\": {\n",
      "    \"text_characters\": 4540, \n",
      "    \"features\": 1, \n",
      "    \"text_units\": 1\n",
      "  }, \n",
      "  \"categories\": [\n",
      "    {\n",
      "      \"score\": 0.935495, \n",
      "      \"label\": \"/finance/bank\"\n",
      "    }, \n",
      "    {\n",
      "      \"score\": 0.512826, \n",
      "      \"label\": \"/finance/bank/bank account\"\n",
      "    }, \n",
      "    {\n",
      "      \"score\": 0.433517, \n",
      "      \"label\": \"/business and industrial\"\n",
      "    }\n",
      "  ], \n",
      "  \"language\": \"en\", \n",
      "  \"retrieved_url\": \"https://www.tdbank.com\"\n",
      "}\n"
     ]
    }
   ],
   "source": [
    "response = natural_language_understanding.analyze(\n",
    "  url=\"www.td.com\",\n",
    "  features=[\n",
    "    Features.Categories()\n",
    "  ]\n",
    ")\n",
    "\n",
    "print(json.dumps(response, indent=2))"
   ]
  },
  {
   "cell_type": "markdown",
   "metadata": {
    "collapsed": true
   },
   "source": [
    "**Entities**: Detect important people, places, geopolitical entities and other types of entities in your content. Entity detection recognizes consecutive coreferences of each entity."
   ]
  },
  {
   "cell_type": "code",
   "execution_count": 8,
   "metadata": {},
   "outputs": [
    {
     "name": "stdout",
     "output_type": "stream",
     "text": [
      "{\n",
      "  \"usage\": {\n",
      "    \"text_characters\": 2728, \n",
      "    \"features\": 1, \n",
      "    \"text_units\": 1\n",
      "  }, \n",
      "  \"entities\": [\n",
      "    {\n",
      "      \"count\": 9, \n",
      "      \"sentiment\": {\n",
      "        \"score\": 0.0\n",
      "      }, \n",
      "      \"text\": \"CNN\", \n",
      "      \"disambiguation\": {\n",
      "        \"subtype\": [\n",
      "          \"Broadcast\", \n",
      "          \"AwardWinner\", \n",
      "          \"RadioNetwork\", \n",
      "          \"TVNetwork\"\n",
      "        ], \n",
      "        \"name\": \"CNN\", \n",
      "        \"dbpedia_resource\": \"http://dbpedia.org/resource/CNN\"\n",
      "      }, \n",
      "      \"relevance\": 0.781907, \n",
      "      \"type\": \"Company\"\n",
      "    }, \n",
      "    {\n",
      "      \"count\": 2, \n",
      "      \"sentiment\": {\n",
      "        \"score\": 0.0\n",
      "      }, \n",
      "      \"text\": \"CNN\", \n",
      "      \"disambiguation\": {\n",
      "        \"subtype\": [\n",
      "          \"Broadcast\", \n",
      "          \"AwardWinner\", \n",
      "          \"Company\", \n",
      "          \"RadioNetwork\", \n",
      "          \"TVNetwork\", \n",
      "          \"TelevisionStation\"\n",
      "        ], \n",
      "        \"name\": \"CNN\", \n",
      "        \"dbpedia_resource\": \"http://dbpedia.org/resource/CNN\"\n",
      "      }, \n",
      "      \"relevance\": 0.498556, \n",
      "      \"type\": \"Broadcaster\"\n",
      "    }\n",
      "  ], \n",
      "  \"language\": \"en\", \n",
      "  \"retrieved_url\": \"http://www.cnn.com/\"\n",
      "}\n"
     ]
    }
   ],
   "source": [
    "response = natural_language_understanding.analyze(\n",
    "  url=\"www.cnn.com\",\n",
    "  features=[\n",
    "    Features.Entities(\n",
    "        sentiment=True,\n",
    "        limit=2\n",
    "    )\n",
    "  ]\n",
    ")\n",
    "\n",
    "print(json.dumps(response, indent=2))"
   ]
  },
  {
   "cell_type": "markdown",
   "metadata": {},
   "source": [
    "**Sentiment**: Determine whether your content conveys postive or negative sentiment. Sentiment information can be returned for detected entities, keywords, or user-specified target phrases found in the text."
   ]
  },
  {
   "cell_type": "code",
   "execution_count": 9,
   "metadata": {},
   "outputs": [
    {
     "name": "stdout",
     "output_type": "stream",
     "text": [
      "{\n",
      "  \"usage\": {\n",
      "    \"text_characters\": 21, \n",
      "    \"features\": 1, \n",
      "    \"text_units\": 1\n",
      "  }, \n",
      "  \"keywords\": [\n",
      "    {\n",
      "      \"relevance\": 0.976062, \n",
      "      \"text\": \"TD\", \n",
      "      \"emotion\": {\n",
      "        \"anger\": 0.018518, \n",
      "        \"joy\": 0.843626, \n",
      "        \"sadness\": 0.030468, \n",
      "        \"fear\": 0.033944, \n",
      "        \"disgust\": 0.018826\n",
      "      }, \n",
      "      \"sentiment\": {\n",
      "        \"score\": 0.801133, \n",
      "        \"label\": \"positive\"\n",
      "      }\n",
      "    }, \n",
      "    {\n",
      "      \"relevance\": 0.82803, \n",
      "      \"text\": \"great company\", \n",
      "      \"emotion\": {\n",
      "        \"anger\": 0.018518, \n",
      "        \"joy\": 0.843626, \n",
      "        \"sadness\": 0.030468, \n",
      "        \"fear\": 0.033944, \n",
      "        \"disgust\": 0.018826\n",
      "      }, \n",
      "      \"sentiment\": {\n",
      "        \"score\": 0.801133, \n",
      "        \"label\": \"positive\"\n",
      "      }\n",
      "    }\n",
      "  ], \n",
      "  \"language\": \"en\"\n",
      "}\n"
     ]
    }
   ],
   "source": [
    "response = natural_language_understanding.analyze(\n",
    "  text=\"TD is a great company\",\n",
    "  features=[\n",
    "    Features.Keywords(\n",
    "      emotion=True,\n",
    "      sentiment=True,  \n",
    "      limit=2\n",
    "    )\n",
    "  ]\n",
    ")\n",
    "\n",
    "print(json.dumps(response, indent=2))"
   ]
  },
  {
   "cell_type": "markdown",
   "metadata": {},
   "source": [
    "### Step 3: Analyzing a press release from the Federal Reserve\n",
    "\n",
    "Url: https://www.federalreserve.gov/newsevents/pressreleases/bcreg20170622a.htm\n",
    "\n",
    "Search the keywords from the news and perform emotion/sentiment analysis.\n",
    "- Define the url wanted for analysis\n",
    "- Define the parameters for NLU\n",
    "  * `Features.Keywords` means keywords analysis\n",
    "  * Set `emotion` and `sentiment` to `true` to allow emotion/sentiment analysis\n",
    "  * `limit=2` means only detecting two keywords"
   ]
  },
  {
   "cell_type": "code",
   "execution_count": 10,
   "metadata": {},
   "outputs": [
    {
     "name": "stdout",
     "output_type": "stream",
     "text": [
      "{\n",
      "  \"usage\": {\n",
      "    \"text_characters\": 2998, \n",
      "    \"features\": 1, \n",
      "    \"text_units\": 1\n",
      "  }, \n",
      "  \"keywords\": [\n",
      "    {\n",
      "      \"relevance\": 0.951286, \n",
      "      \"text\": \"bank holding companies\", \n",
      "      \"emotion\": {\n",
      "        \"anger\": 0.061719, \n",
      "        \"joy\": 0.095852, \n",
      "        \"sadness\": 0.228201, \n",
      "        \"fear\": 0.136248, \n",
      "        \"disgust\": 0.013403\n",
      "      }, \n",
      "      \"sentiment\": {\n",
      "        \"score\": -0.566024, \n",
      "        \"label\": \"negative\"\n",
      "      }\n",
      "    }, \n",
      "    {\n",
      "      \"relevance\": 0.847884, \n",
      "      \"text\": \"Federal Reserve\", \n",
      "      \"emotion\": {\n",
      "        \"anger\": 0.140472, \n",
      "        \"joy\": 0.124019, \n",
      "        \"sadness\": 0.186927, \n",
      "        \"fear\": 0.320088, \n",
      "        \"disgust\": 0.010946\n",
      "      }, \n",
      "      \"sentiment\": {\n",
      "        \"score\": 0.0, \n",
      "        \"label\": \"neutral\"\n",
      "      }\n",
      "    }\n",
      "  ], \n",
      "  \"language\": \"en\", \n",
      "  \"retrieved_url\": \"https://www.federalreserve.gov/newsevents/pressreleases/bcreg20170622a.htm\"\n",
      "}\n"
     ]
    }
   ],
   "source": [
    "response = natural_language_understanding.analyze(\n",
    "  url=\"https://www.federalreserve.gov/newsevents/pressreleases/bcreg20170622a.htm\",\n",
    "  features=[\n",
    "    Features.Keywords(\n",
    "      emotion=True,\n",
    "      sentiment=True,  \n",
    "      limit=2\n",
    "    )\n",
    "  ]\n",
    ")\n",
    "\n",
    "print(json.dumps(response, indent=2))"
   ]
  },
  {
   "cell_type": "markdown",
   "metadata": {
    "collapsed": true
   },
   "source": [
    "### Insights from output:\n",
    "- **text**: Keyword text. **\"bank holding companies\"** and **\"Federal Reserve\"** are defined as the keywords\n",
    "- **relevance**: Keyword relevance score with the document. A 0 means it's not relevant, and a 1 means it's highly relevant.\n",
    "- **sentiment**: Sentiment score within the document for the concept ranging from -1 to 1. Negative scores indicate negative sentiment, and positive scores indicate positive sentiment.\n",
    "- **emotion**: emotion score within the document for the concept ranging from -1 to 1. Negative scores indicate negative sentiment, and positive scores indicate positive sentiment."
   ]
  },
  {
   "cell_type": "markdown",
   "metadata": {},
   "source": [
    "### Step 4: Sentiment analyze a press release from the Federal Reserve with target phrases\n",
    "\n",
    "Analyze the sentiment toward specific target phrases found in the url:\n",
    "- Define the url wanted for analysis\n",
    "- Define the parameters for NLU\n",
    "  * `Features.Sentiment` means sentiment analysis\n",
    "  * Set target phrases for analysis: \"economy\" and \"common equity capital\""
   ]
  },
  {
   "cell_type": "code",
   "execution_count": 11,
   "metadata": {},
   "outputs": [
    {
     "name": "stdout",
     "output_type": "stream",
     "text": [
      "{\n",
      "  \"usage\": {\n",
      "    \"text_characters\": 2998, \n",
      "    \"features\": 1, \n",
      "    \"text_units\": 1\n",
      "  }, \n",
      "  \"language\": \"en\", \n",
      "  \"sentiment\": {\n",
      "    \"document\": {\n",
      "      \"score\": -0.424257, \n",
      "      \"label\": \"negative\"\n",
      "    }, \n",
      "    \"targets\": [\n",
      "      {\n",
      "        \"text\": \"economy\", \n",
      "        \"score\": -0.467679, \n",
      "        \"label\": \"negative\"\n",
      "      }, \n",
      "      {\n",
      "        \"text\": \"common equity capital\", \n",
      "        \"score\": -0.436162, \n",
      "        \"label\": \"negative\"\n",
      "      }\n",
      "    ]\n",
      "  }, \n",
      "  \"retrieved_url\": \"https://www.federalreserve.gov/newsevents/pressreleases/bcreg20170622a.htm\"\n",
      "}\n"
     ]
    }
   ],
   "source": [
    "response = natural_language_understanding.analyze(\n",
    "  url=\"https://www.federalreserve.gov/newsevents/pressreleases/bcreg20170622a.htm\",\n",
    "  features=[\n",
    "    Features.Sentiment(\n",
    "      # Sentiment option\n",
    "      targets=[\"economy\", \"common equity capital\"]\n",
    "    )\n",
    "  ]\n",
    ")\n",
    "\n",
    "print(json.dumps(response, indent=2))"
   ]
  },
  {
   "cell_type": "markdown",
   "metadata": {},
   "source": [
    "### Insights from output:\n",
    "- **document**: Document-level sentiment analysis results. It's negative with score value -0.424257.\n",
    "- **targets**: Array of target analysis results. Each object contains the text of the target, sentiment score, and a label. Both of the two phrases are identified as negative in the document."
   ]
  },
  {
   "cell_type": "markdown",
   "metadata": {},
   "source": [
    "### Step 5: Analysis from a string of words\n",
    "\n",
    "Search the keywords from the news and perform emotion/sentiment analysis.\n",
    "- Define a piece of text wanted for analysis(Pasted from a url, [here](https://seekingalpha.com/article/4081708-june-fomc-announcement-rate-hike-balance-sheet-plans), the second paragraph)\n",
    "- Define the parameters for NLU\n",
    "  * `Features.Sentiment` means sentiment analysis\n",
    "  * Set target phrases for analysis: \"FOMC\" and \"experts\""
   ]
  },
  {
   "cell_type": "code",
   "execution_count": 12,
   "metadata": {},
   "outputs": [
    {
     "name": "stdout",
     "output_type": "stream",
     "text": [
      "{\n",
      "  \"usage\": {\n",
      "    \"text_characters\": 350, \n",
      "    \"features\": 1, \n",
      "    \"text_units\": 1\n",
      "  }, \n",
      "  \"language\": \"en\", \n",
      "  \"sentiment\": {\n",
      "    \"document\": {\n",
      "      \"score\": -0.885821, \n",
      "      \"label\": \"negative\"\n",
      "    }, \n",
      "    \"targets\": [\n",
      "      {\n",
      "        \"text\": \"FOMC\", \n",
      "        \"score\": -0.667683, \n",
      "        \"label\": \"negative\"\n",
      "      }, \n",
      "      {\n",
      "        \"text\": \"experts\", \n",
      "        \"score\": -0.701179, \n",
      "        \"label\": \"negative\"\n",
      "      }\n",
      "    ]\n",
      "  }\n",
      "}\n"
     ]
    }
   ],
   "source": [
    "response = natural_language_understanding.analyze(\n",
    "  text=\"There are still concerns at the FOMC (and in monetary officialdom in general) \\\n",
    "  that the devaluation of our purchasing power is not occurring rapidly enough. From its\\\n",
    "  own statistics, which exclude things most important to consumers such as food and energy, \\\n",
    "  price inflation dipped a bit to 1.7%. This, of course, is an utter outrage to the experts.\",\n",
    "  features=[\n",
    "    Features.Sentiment(\n",
    "      # Sentiment option\n",
    "      targets=[\"FOMC\", \"experts\"]\n",
    "    )\n",
    "  ]\n",
    ")\n",
    "\n",
    "print(json.dumps(response, indent=2))"
   ]
  },
  {
   "cell_type": "markdown",
   "metadata": {},
   "source": [
    "### Insights from output:\n",
    "- **document**: Document-level sentiment analysis results. It's negative with score value -0.885821.\n",
    "- **targets**: Both of the two phrases are identified as negative in the words."
   ]
  }
 ],
 "metadata": {
  "kernelspec": {
   "display_name": "Python 2 with Spark 2.0",
   "language": "python",
   "name": "python2-spark20"
  },
  "language_info": {
   "codemirror_mode": {
    "name": "ipython",
    "version": 2
   },
   "file_extension": ".py",
   "mimetype": "text/x-python",
   "name": "python",
   "nbconvert_exporter": "python",
   "pygments_lexer": "ipython2",
   "version": "2.7.11"
  }
 },
 "nbformat": 4,
 "nbformat_minor": 1
}
