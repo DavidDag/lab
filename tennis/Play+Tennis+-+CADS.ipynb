{
 "cells": [
  {
   "cell_type": "code",
   "execution_count": 1,
   "metadata": {
    "collapsed": true
   },
   "outputs": [],
   "source": [
    "from pyspark.ml.feature import OneHotEncoder, StringIndexer, IndexToString\n",
    "from pyspark.ml.linalg import Vectors\n",
    "from pyspark.ml.feature import VectorAssembler\n",
    "from pyspark.ml.classification import DecisionTreeClassifier\n",
    "from pyspark.ml.evaluation import MulticlassClassificationEvaluator\n",
    "from pyspark.ml.evaluation import BinaryClassificationEvaluator\n",
    "from pyspark.ml import Pipeline, Model"
   ]
  },
  {
   "cell_type": "code",
   "execution_count": 2,
   "metadata": {},
   "outputs": [
    {
     "data": {
      "text/plain": [
       "[Row(Outlook=u'sunny', Temperature=u'hot', Humidity=u'high', Wind=u'strong', Play=u'no'),\n",
       " Row(Outlook=u'sunny', Temperature=u'hot', Humidity=u'high', Wind=u'weak', Play=u'no'),\n",
       " Row(Outlook=u'overcast', Temperature=u'hot', Humidity=u'high', Wind=u'weak', Play=u'yes'),\n",
       " Row(Outlook=u'rain', Temperature=u'mild', Humidity=u'high', Wind=u'weak', Play=u'yes'),\n",
       " Row(Outlook=u'rain', Temperature=u'cool', Humidity=u'normal', Wind=u'weak', Play=u'yes')]"
      ]
     },
     "execution_count": 2,
     "metadata": {},
     "output_type": "execute_result"
    }
   ],
   "source": [
    "\n",
    "import ibmos2spark\n",
    "\n",
    "# @hidden_cell\n",
    "credentials = {\n",
    "    'auth_url': 'https://identity.open.softlayer.com',\n",
    "    'project_id': 'f2a24a66cdc341609d1981c7a9f59ff1',\n",
    "    'region': 'dallas',\n",
    "    'user_id': 'f42600a2d0434be5b2467f29dacb1c80',\n",
    "    'username': 'member_717dbec4da36c47dbc67250b4877af401786b4d3',\n",
    "    'password': 'b]WZs,l4(4#Hinu-'\n",
    "}\n",
    "\n",
    "configuration_name = 'os_5f070ff2bf8948378f720eb9b94c28e2_configs'\n",
    "bmos = ibmos2spark.bluemix(sc, credentials, configuration_name)\n",
    "\n",
    "from pyspark.sql import SparkSession\n",
    "spark = SparkSession.builder.getOrCreate()\n",
    "df = spark.read\\\n",
    "  .format('org.apache.spark.sql.execution.datasources.csv.CSVFileFormat')\\\n",
    "  .option('header', 'true')\\\n",
    "  .load(bmos.url('Tennis', 'tennis.csv'))\n",
    "df.take(5)\n"
   ]
  },
  {
   "cell_type": "code",
   "execution_count": 3,
   "metadata": {},
   "outputs": [
    {
     "name": "stdout",
     "output_type": "stream",
     "text": [
      "+--------+-----------+--------+------+----+\n",
      "| Outlook|Temperature|Humidity|  Wind|Play|\n",
      "+--------+-----------+--------+------+----+\n",
      "|   sunny|        hot|    high|strong|  no|\n",
      "|   sunny|        hot|    high|  weak|  no|\n",
      "|overcast|        hot|    high|  weak| yes|\n",
      "|    rain|       mild|    high|  weak| yes|\n",
      "|    rain|       cool|  normal|  weak| yes|\n",
      "|    rain|       cool|  normal|strong|  no|\n",
      "|overcast|       cool|  normal|strong| yes|\n",
      "|   sunny|       mild|    high|  weak|  no|\n",
      "|   sunny|       cool|  normal|  weak| yes|\n",
      "|    rain|       mild|  normal|  weak| yes|\n",
      "|   sunny|       mild|  normal|strong| yes|\n",
      "|overcast|       mild|    high|strong| yes|\n",
      "|overcast|        hot|  normal|  weak| yes|\n",
      "|    rain|       mild|    high|strong|  no|\n",
      "+--------+-----------+--------+------+----+\n",
      "\n"
     ]
    }
   ],
   "source": [
    "df.show()"
   ]
  },
  {
   "cell_type": "code",
   "execution_count": 4,
   "metadata": {},
   "outputs": [
    {
     "name": "stdout",
     "output_type": "stream",
     "text": [
      "root\n",
      " |-- Outlook: string (nullable = true)\n",
      " |-- Temperature: string (nullable = true)\n",
      " |-- Humidity: string (nullable = true)\n",
      " |-- Wind: string (nullable = true)\n",
      " |-- Play: string (nullable = true)\n",
      "\n"
     ]
    }
   ],
   "source": [
    "df.printSchema()"
   ]
  },
  {
   "cell_type": "code",
   "execution_count": 5,
   "metadata": {},
   "outputs": [
    {
     "data": {
      "text/html": [
       "<div>\n",
       "<table border=\"1\" class=\"dataframe\">\n",
       "  <thead>\n",
       "    <tr style=\"text-align: right;\">\n",
       "      <th></th>\n",
       "      <th>Outlook</th>\n",
       "      <th>Temperature</th>\n",
       "      <th>Humidity</th>\n",
       "      <th>Wind</th>\n",
       "      <th>Play</th>\n",
       "    </tr>\n",
       "  </thead>\n",
       "  <tbody>\n",
       "    <tr>\n",
       "      <th>count</th>\n",
       "      <td>14</td>\n",
       "      <td>14</td>\n",
       "      <td>14</td>\n",
       "      <td>14</td>\n",
       "      <td>14</td>\n",
       "    </tr>\n",
       "    <tr>\n",
       "      <th>unique</th>\n",
       "      <td>3</td>\n",
       "      <td>3</td>\n",
       "      <td>2</td>\n",
       "      <td>2</td>\n",
       "      <td>2</td>\n",
       "    </tr>\n",
       "    <tr>\n",
       "      <th>top</th>\n",
       "      <td>rain</td>\n",
       "      <td>mild</td>\n",
       "      <td>normal</td>\n",
       "      <td>weak</td>\n",
       "      <td>yes</td>\n",
       "    </tr>\n",
       "    <tr>\n",
       "      <th>freq</th>\n",
       "      <td>5</td>\n",
       "      <td>6</td>\n",
       "      <td>7</td>\n",
       "      <td>8</td>\n",
       "      <td>9</td>\n",
       "    </tr>\n",
       "  </tbody>\n",
       "</table>\n",
       "</div>"
      ],
      "text/plain": [
       "       Outlook Temperature Humidity  Wind Play\n",
       "count       14          14       14    14   14\n",
       "unique       3           3        2     2    2\n",
       "top       rain        mild   normal  weak  yes\n",
       "freq         5           6        7     8    9"
      ]
     },
     "execution_count": 5,
     "metadata": {},
     "output_type": "execute_result"
    }
   ],
   "source": [
    "df.toPandas().describe()"
   ]
  },
  {
   "cell_type": "code",
   "execution_count": 6,
   "metadata": {},
   "outputs": [
    {
     "data": {
      "image/png": "[encoded data removed]",
      "text/plain": [
       "<matplotlib.figure.Figure at 0x7f7e0eacf2d0>"
      ]
     },
     "metadata": {},
     "output_type": "display_data"
    }
   ],
   "source": [
    "import pandas as pd\n",
    "import matplotlib.pyplot as plt\n",
    "\n",
    "%matplotlib inline\n",
    "\n",
    "df2 = df.toPandas()\n",
    "count_play = pd.value_counts(df2['Play'], sort = True)\n",
    "count_play.plot(kind = 'bar', rot=0)\n",
    "plt.title(\"Play distribution\")\n",
    "plt.xticks(range(2), [\"Yes\", \"No\"])\n",
    "plt.xlabel(\"Play\")\n",
    "plt.ylabel(\"Count\");"
   ]
  },
  {
   "cell_type": "code",
   "execution_count": 7,
   "metadata": {},
   "outputs": [
    {
     "data": {
      "image/png": "[encoded data removed]",
      "text/plain": [
       "<matplotlib.figure.Figure at 0x7f7e1623d910>"
      ]
     },
     "metadata": {},
     "output_type": "display_data"
    }
   ],
   "source": [
    "# Set up a grid of plots\n",
    "fig = plt.figure(figsize=(10, 10)) \n",
    "fig_dims = (3, 2)\n",
    "\n",
    "# Plot play counts\n",
    "plt.subplot2grid(fig_dims, (0, 0))\n",
    "df2['Play'].value_counts().plot(kind='bar', \n",
    "                                         title='Play Counts')\n",
    "\n",
    "# Plot Outlook counts\n",
    "plt.subplot2grid(fig_dims, (0, 1))\n",
    "df2['Outlook'].value_counts().plot(kind='bar', \n",
    "                                       title='Outlook Counts')\n",
    "\n",
    "# Plot Temperature counts\n",
    "plt.subplot2grid(fig_dims, (1, 0))\n",
    "df2['Temperature'].value_counts().plot(kind='bar', \n",
    "                                    title='Temperature Counts')\n",
    "plt.xticks(rotation=0)\n",
    "\n",
    "# Plot Embarked counts\n",
    "plt.subplot2grid(fig_dims, (1, 1))\n",
    "df2['Humidity'].value_counts().plot(kind='bar', \n",
    "                                         title='Humidity Counts')\n",
    "\n",
    "# Plot Wind counts\n",
    "plt.subplot2grid(fig_dims, (2, 0))\n",
    "df2['Wind'].value_counts().plot(kind='bar', \n",
    "                                         title='Wind Counts')\n",
    "\n",
    "plt.show()"
   ]
  },
  {
   "cell_type": "code",
   "execution_count": 8,
   "metadata": {
    "collapsed": true
   },
   "outputs": [],
   "source": [
    "splitted_data = df.randomSplit([0.85, 0.15], 48)\n",
    "train_data = splitted_data[0]\n",
    "test_data = splitted_data[1]"
   ]
  },
  {
   "cell_type": "code",
   "execution_count": 9,
   "metadata": {
    "collapsed": true
   },
   "outputs": [],
   "source": [
    "stringIndexer_label = StringIndexer(inputCol=\"Play\", outputCol=\"label\").fit(df)\n",
    "stringIndexer_outlook = StringIndexer(inputCol=\"Outlook\", outputCol=\"outlook_code\")\n",
    "stringIndexer_temp = StringIndexer(inputCol=\"Temperature\", outputCol=\"temperature_code\")\n",
    "stringIndexer_humi = StringIndexer(inputCol=\"Humidity\", outputCol=\"humidity_code\")\n",
    "stringIndexer_wind = StringIndexer(inputCol=\"Wind\", outputCol=\"wind_code\")"
   ]
  },
  {
   "cell_type": "code",
   "execution_count": 10,
   "metadata": {
    "collapsed": true
   },
   "outputs": [],
   "source": [
    "vectorAssembler_features = VectorAssembler(inputCols=[\"outlook_code\", \"temperature_code\", \"humidity_code\", \"wind_code\"], outputCol=\"features\")\n",
    "dt = DecisionTreeClassifier(labelCol=\"label\", featuresCol=\"features\")"
   ]
  },
  {
   "cell_type": "code",
   "execution_count": 11,
   "metadata": {
    "collapsed": true
   },
   "outputs": [],
   "source": [
    "labelConverter = IndexToString(inputCol=\"prediction\", outputCol=\"predictedLabel\", labels=stringIndexer_label.labels)"
   ]
  },
  {
   "cell_type": "code",
   "execution_count": 12,
   "metadata": {
    "collapsed": true
   },
   "outputs": [],
   "source": [
    "pipeline_dt = Pipeline(stages=[stringIndexer_label, stringIndexer_outlook, stringIndexer_temp, stringIndexer_humi, stringIndexer_wind, vectorAssembler_features, dt, labelConverter])"
   ]
  },
  {
   "cell_type": "code",
   "execution_count": 21,
   "metadata": {
    "collapsed": true
   },
   "outputs": [],
   "source": [
    "from pyspark.ml.classification import LogisticRegression\n",
    "from pyspark.ml.classification import NaiveBayes\n",
    "from com.ibm.analytics.wml.cads import CADSEstimator\n",
    "from com.ibm.analytics.wml.cads import Learner, Target\n",
    "\n",
    "lr = LogisticRegression(labelCol=\"label\", featuresCol=\"features\", regParam=0.01)\n",
    "nb = NaiveBayes(labelCol=\"label\", featuresCol=\"features\", smoothing=1.0)\n",
    "\n",
    "learners = [Learner(\"LR\", lr), Learner(\"NB\", nb)]\n",
    "cads = CADSEstimator().setLearners(learners)\\\n",
    "        .setEvaluator(MulticlassClassificationEvaluator(labelCol=\"label\", predictionCol=\"prediction\", metricName=\"accuracy\"))\\\n",
    "        .setTarget(Target(\"prediction\", \"label\"))\\\n",
    "        .setInitialSampleSize(2)\\\n",
    "        .setNumSampleFolds(2)\\\n",
    "        .setKeepBestNLearners(2)\n",
    "               \n",
    "pipeline_dt = Pipeline(stages=[stringIndexer_label, stringIndexer_outlook, stringIndexer_temp, stringIndexer_humi, stringIndexer_wind, vectorAssembler_features, cads, labelConverter])"
   ]
  },
  {
   "cell_type": "code",
   "execution_count": 22,
   "metadata": {
    "collapsed": true
   },
   "outputs": [],
   "source": [
    "model_dt = pipeline_dt.fit(train_data)"
   ]
  },
  {
   "cell_type": "code",
   "execution_count": 15,
   "metadata": {},
   "outputs": [
    {
     "data": {
      "text/plain": [
       "CADS-Score_b0a520ded387"
      ]
     },
     "execution_count": 15,
     "metadata": {},
     "output_type": "execute_result"
    }
   ],
   "source": [
    "model_dt.stages[-2]"
   ]
  },
  {
   "cell_type": "code",
   "execution_count": 16,
   "metadata": {},
   "outputs": [
    {
     "name": "stdout",
     "output_type": "stream",
     "text": [
      "Accuracy = 1\n",
      "Test Error = 0\n"
     ]
    }
   ],
   "source": [
    "predictions = model_dt.transform(test_data)\n",
    "evaluatorDT = BinaryClassificationEvaluator(labelCol=\"label\", rawPredictionCol=\"rawPrediction\", metricName=\"areaUnderROC\")\n",
    "accuracy = evaluatorDT.evaluate(predictions)\n",
    "\n",
    "print(\"Accuracy = %g\" % accuracy)\n",
    "print(\"Test Error = %g\" % (1.0 - accuracy))"
   ]
  },
  {
   "cell_type": "code",
   "execution_count": 17,
   "metadata": {},
   "outputs": [
    {
     "name": "stdout",
     "output_type": "stream",
     "text": [
      "('The ROC score is: ', 1.0)\n"
     ]
    }
   ],
   "source": [
    "from pyspark.mllib.evaluation import BinaryClassificationMetrics as metric\n",
    "results = predictions.select(['probability', 'label'])\n",
    " \n",
    "## prepare score-label set\n",
    "results_collect = results.collect()\n",
    "results_list = [(float(i[0][0]), 1.0-float(i[1])) for i in results_collect]\n",
    "scoreAndLabels = sc.parallelize(results_list)\n",
    " \n",
    "metrics = metric(scoreAndLabels)\n",
    "print(\"The ROC score is: \", metrics.areaUnderROC)\n"
   ]
  },
  {
   "cell_type": "code",
   "execution_count": 18,
   "metadata": {},
   "outputs": [
    {
     "data": {
      "image/png": "[encoded data removed]",
      "text/plain": [
       "<matplotlib.figure.Figure at 0x7f7dac0ec810>"
      ]
     },
     "metadata": {},
     "output_type": "display_data"
    }
   ],
   "source": [
    "from sklearn.metrics import roc_curve, auc\n",
    " \n",
    "fpr = dict()\n",
    "tpr = dict()\n",
    "roc_auc = dict()\n",
    " \n",
    "y_test = [i[1] for i in results_list]\n",
    "y_score = [i[0] for i in results_list]\n",
    " \n",
    "fpr, tpr, _ = roc_curve(y_test, y_score)\n",
    "roc_auc = auc(fpr, tpr)\n",
    " \n",
    "%matplotlib inline\n",
    "plt.figure()\n",
    "plt.plot(fpr, tpr, label='ROC curve (area = %0.2f)' % roc_auc)\n",
    "plt.plot([0, 1], [0, 1], 'k--')\n",
    "plt.xlim([0.0, 1.0])\n",
    "plt.ylim([0.0, 1.05])\n",
    "plt.xlabel('False Positive Rate')\n",
    "plt.ylabel('True Positive Rate')\n",
    "plt.title('Receiver operating characteristic example')\n",
    "plt.legend(loc=\"lower right\")\n",
    "plt.show()"
   ]
  },
  {
   "cell_type": "code",
   "execution_count": 19,
   "metadata": {},
   "outputs": [
    {
     "name": "stdout",
     "output_type": "stream",
     "text": [
      "+--------+-------+-----------+------+\n",
      "|Humidity|Outlook|Temperature|  Wind|\n",
      "+--------+-------+-----------+------+\n",
      "|  normal|   rain|        hot|strong|\n",
      "|  normal|  sunny|       mild|  weak|\n",
      "+--------+-------+-----------+------+\n",
      "\n"
     ]
    },
    {
     "name": "stderr",
     "output_type": "stream",
     "text": [
      "/usr/local/src/spark20master/spark/python/pyspark/sql/session.py:316: UserWarning: inferring schema from dict is deprecated,please use pyspark.sql.Row instead\n",
      "  warnings.warn(\"inferring schema from dict is deprecated,\"\n"
     ]
    }
   ],
   "source": [
    "new_data = [{'Outlook': 'rain', 'Temperature': 'hot', 'Humidity': 'normal', 'Wind': 'strong'},\n",
    "            {'Outlook': 'sunny', 'Temperature': 'mild', 'Humidity': 'normal', 'Wind': 'weak'}]\n",
    "\n",
    "new_df = sqlContext.createDataFrame(new_data)\n",
    "new_df.show()"
   ]
  },
  {
   "cell_type": "code",
   "execution_count": 20,
   "metadata": {},
   "outputs": [
    {
     "name": "stdout",
     "output_type": "stream",
     "text": [
      "+--------------+\n",
      "|predictedLabel|\n",
      "+--------------+\n",
      "|           yes|\n",
      "|           yes|\n",
      "+--------------+\n",
      "\n"
     ]
    }
   ],
   "source": [
    "new_predictions = model_dt.transform(new_df)\n",
    "new_predictions.select(\"predictedLabel\").show()"
   ]
  },
  {
   "cell_type": "code",
   "execution_count": null,
   "metadata": {
    "collapsed": true
   },
   "outputs": [],
   "source": []
  }
 ],
 "metadata": {
  "kernelspec": {
   "display_name": "Python 2 with Spark 2.0",
   "language": "python",
   "name": "python2-spark20"
  },
  "language_info": {
   "codemirror_mode": {
    "name": "ipython",
    "version": 2
   },
   "file_extension": ".py",
   "mimetype": "text/x-python",
   "name": "python",
   "nbconvert_exporter": "python",
   "pygments_lexer": "ipython2",
   "version": "2.7.11"
  }
 },
 "nbformat": 4,
 "nbformat_minor": 1
}
